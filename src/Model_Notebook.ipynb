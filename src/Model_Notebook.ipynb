{
  "metadata": {
    "kernelspec": {
      "name": "python3",
      "display_name": "Python 3",
      "language": "python"
    },
    "language_info": {
      "name": "python",
      "version": "3.11.11",
      "mimetype": "text/x-python",
      "codemirror_mode": {
        "name": "ipython",
        "version": 3
      },
      "pygments_lexer": "ipython3",
      "nbconvert_exporter": "python",
      "file_extension": ".py"
    },
    "colab": {
      "provenance": [],
      "collapsed_sections": [
        "xQZUVf282YCp",
        "uMtd0t8D2cIx",
        "O--cIebV3qwm",
        "HD9hb7T_3gML",
        "KPiQoNjc3UCF",
        "P0C-GcVR3Pp_"
      ]
    },
    "widgets": {
      "application/vnd.jupyter.widget-state+json": {
        "54c84d8801484149803956a0c9bede3d": {
          "model_module": "@jupyter-widgets/controls",
          "model_name": "HBoxModel",
          "model_module_version": "1.5.0",
          "state": {
            "_dom_classes": [],
            "_model_module": "@jupyter-widgets/controls",
            "_model_module_version": "1.5.0",
            "_model_name": "HBoxModel",
            "_view_count": null,
            "_view_module": "@jupyter-widgets/controls",
            "_view_module_version": "1.5.0",
            "_view_name": "HBoxView",
            "box_style": "",
            "children": [
              "IPY_MODEL_ea962a2fa5d34a2aa61a46eacd561888",
              "IPY_MODEL_ee8f9771866c48c0a716e4b03b696dd8",
              "IPY_MODEL_1dd01c2efc2a46aca1305d0006e38f89"
            ],
            "layout": "IPY_MODEL_765f4185e2ec4d9fb9cec16412672170"
          }
        },
        "ea962a2fa5d34a2aa61a46eacd561888": {
          "model_module": "@jupyter-widgets/controls",
          "model_name": "HTMLModel",
          "model_module_version": "1.5.0",
          "state": {
            "_dom_classes": [],
            "_model_module": "@jupyter-widgets/controls",
            "_model_module_version": "1.5.0",
            "_model_name": "HTMLModel",
            "_view_count": null,
            "_view_module": "@jupyter-widgets/controls",
            "_view_module_version": "1.5.0",
            "_view_name": "HTMLView",
            "description": "",
            "description_tooltip": null,
            "layout": "IPY_MODEL_ba6b391e34d34adeb3db70f30eb35c59",
            "placeholder": "​",
            "style": "IPY_MODEL_677d1928e459462285d839053ed6d092",
            "value": "tokenizer_config.json: 100%"
          }
        },
        "ee8f9771866c48c0a716e4b03b696dd8": {
          "model_module": "@jupyter-widgets/controls",
          "model_name": "FloatProgressModel",
          "model_module_version": "1.5.0",
          "state": {
            "_dom_classes": [],
            "_model_module": "@jupyter-widgets/controls",
            "_model_module_version": "1.5.0",
            "_model_name": "FloatProgressModel",
            "_view_count": null,
            "_view_module": "@jupyter-widgets/controls",
            "_view_module_version": "1.5.0",
            "_view_name": "ProgressView",
            "bar_style": "success",
            "description": "",
            "description_tooltip": null,
            "layout": "IPY_MODEL_b612ba068251480d9c5070dd0c63ab52",
            "max": 48,
            "min": 0,
            "orientation": "horizontal",
            "style": "IPY_MODEL_e17099ab96d0437ca117738d3366266e",
            "value": 48
          }
        },
        "1dd01c2efc2a46aca1305d0006e38f89": {
          "model_module": "@jupyter-widgets/controls",
          "model_name": "HTMLModel",
          "model_module_version": "1.5.0",
          "state": {
            "_dom_classes": [],
            "_model_module": "@jupyter-widgets/controls",
            "_model_module_version": "1.5.0",
            "_model_name": "HTMLModel",
            "_view_count": null,
            "_view_module": "@jupyter-widgets/controls",
            "_view_module_version": "1.5.0",
            "_view_name": "HTMLView",
            "description": "",
            "description_tooltip": null,
            "layout": "IPY_MODEL_2cc88cb9d3614c4f9fda3627732b06ab",
            "placeholder": "​",
            "style": "IPY_MODEL_fe72e0c3846844cd8ff9eb984e8bbdd2",
            "value": " 48.0/48.0 [00:00&lt;00:00, 680B/s]"
          }
        },
        "765f4185e2ec4d9fb9cec16412672170": {
          "model_module": "@jupyter-widgets/base",
          "model_name": "LayoutModel",
          "model_module_version": "1.2.0",
          "state": {
            "_model_module": "@jupyter-widgets/base",
            "_model_module_version": "1.2.0",
            "_model_name": "LayoutModel",
            "_view_count": null,
            "_view_module": "@jupyter-widgets/base",
            "_view_module_version": "1.2.0",
            "_view_name": "LayoutView",
            "align_content": null,
            "align_items": null,
            "align_self": null,
            "border": null,
            "bottom": null,
            "display": null,
            "flex": null,
            "flex_flow": null,
            "grid_area": null,
            "grid_auto_columns": null,
            "grid_auto_flow": null,
            "grid_auto_rows": null,
            "grid_column": null,
            "grid_gap": null,
            "grid_row": null,
            "grid_template_areas": null,
            "grid_template_columns": null,
            "grid_template_rows": null,
            "height": null,
            "justify_content": null,
            "justify_items": null,
            "left": null,
            "margin": null,
            "max_height": null,
            "max_width": null,
            "min_height": null,
            "min_width": null,
            "object_fit": null,
            "object_position": null,
            "order": null,
            "overflow": null,
            "overflow_x": null,
            "overflow_y": null,
            "padding": null,
            "right": null,
            "top": null,
            "visibility": null,
            "width": null
          }
        },
        "ba6b391e34d34adeb3db70f30eb35c59": {
          "model_module": "@jupyter-widgets/base",
          "model_name": "LayoutModel",
          "model_module_version": "1.2.0",
          "state": {
            "_model_module": "@jupyter-widgets/base",
            "_model_module_version": "1.2.0",
            "_model_name": "LayoutModel",
            "_view_count": null,
            "_view_module": "@jupyter-widgets/base",
            "_view_module_version": "1.2.0",
            "_view_name": "LayoutView",
            "align_content": null,
            "align_items": null,
            "align_self": null,
            "border": null,
            "bottom": null,
            "display": null,
            "flex": null,
            "flex_flow": null,
            "grid_area": null,
            "grid_auto_columns": null,
            "grid_auto_flow": null,
            "grid_auto_rows": null,
            "grid_column": null,
            "grid_gap": null,
            "grid_row": null,
            "grid_template_areas": null,
            "grid_template_columns": null,
            "grid_template_rows": null,
            "height": null,
            "justify_content": null,
            "justify_items": null,
            "left": null,
            "margin": null,
            "max_height": null,
            "max_width": null,
            "min_height": null,
            "min_width": null,
            "object_fit": null,
            "object_position": null,
            "order": null,
            "overflow": null,
            "overflow_x": null,
            "overflow_y": null,
            "padding": null,
            "right": null,
            "top": null,
            "visibility": null,
            "width": null
          }
        },
        "677d1928e459462285d839053ed6d092": {
          "model_module": "@jupyter-widgets/controls",
          "model_name": "DescriptionStyleModel",
          "model_module_version": "1.5.0",
          "state": {
            "_model_module": "@jupyter-widgets/controls",
            "_model_module_version": "1.5.0",
            "_model_name": "DescriptionStyleModel",
            "_view_count": null,
            "_view_module": "@jupyter-widgets/base",
            "_view_module_version": "1.2.0",
            "_view_name": "StyleView",
            "description_width": ""
          }
        },
        "b612ba068251480d9c5070dd0c63ab52": {
          "model_module": "@jupyter-widgets/base",
          "model_name": "LayoutModel",
          "model_module_version": "1.2.0",
          "state": {
            "_model_module": "@jupyter-widgets/base",
            "_model_module_version": "1.2.0",
            "_model_name": "LayoutModel",
            "_view_count": null,
            "_view_module": "@jupyter-widgets/base",
            "_view_module_version": "1.2.0",
            "_view_name": "LayoutView",
            "align_content": null,
            "align_items": null,
            "align_self": null,
            "border": null,
            "bottom": null,
            "display": null,
            "flex": null,
            "flex_flow": null,
            "grid_area": null,
            "grid_auto_columns": null,
            "grid_auto_flow": null,
            "grid_auto_rows": null,
            "grid_column": null,
            "grid_gap": null,
            "grid_row": null,
            "grid_template_areas": null,
            "grid_template_columns": null,
            "grid_template_rows": null,
            "height": null,
            "justify_content": null,
            "justify_items": null,
            "left": null,
            "margin": null,
            "max_height": null,
            "max_width": null,
            "min_height": null,
            "min_width": null,
            "object_fit": null,
            "object_position": null,
            "order": null,
            "overflow": null,
            "overflow_x": null,
            "overflow_y": null,
            "padding": null,
            "right": null,
            "top": null,
            "visibility": null,
            "width": null
          }
        },
        "e17099ab96d0437ca117738d3366266e": {
          "model_module": "@jupyter-widgets/controls",
          "model_name": "ProgressStyleModel",
          "model_module_version": "1.5.0",
          "state": {
            "_model_module": "@jupyter-widgets/controls",
            "_model_module_version": "1.5.0",
            "_model_name": "ProgressStyleModel",
            "_view_count": null,
            "_view_module": "@jupyter-widgets/base",
            "_view_module_version": "1.2.0",
            "_view_name": "StyleView",
            "bar_color": null,
            "description_width": ""
          }
        },
        "2cc88cb9d3614c4f9fda3627732b06ab": {
          "model_module": "@jupyter-widgets/base",
          "model_name": "LayoutModel",
          "model_module_version": "1.2.0",
          "state": {
            "_model_module": "@jupyter-widgets/base",
            "_model_module_version": "1.2.0",
            "_model_name": "LayoutModel",
            "_view_count": null,
            "_view_module": "@jupyter-widgets/base",
            "_view_module_version": "1.2.0",
            "_view_name": "LayoutView",
            "align_content": null,
            "align_items": null,
            "align_self": null,
            "border": null,
            "bottom": null,
            "display": null,
            "flex": null,
            "flex_flow": null,
            "grid_area": null,
            "grid_auto_columns": null,
            "grid_auto_flow": null,
            "grid_auto_rows": null,
            "grid_column": null,
            "grid_gap": null,
            "grid_row": null,
            "grid_template_areas": null,
            "grid_template_columns": null,
            "grid_template_rows": null,
            "height": null,
            "justify_content": null,
            "justify_items": null,
            "left": null,
            "margin": null,
            "max_height": null,
            "max_width": null,
            "min_height": null,
            "min_width": null,
            "object_fit": null,
            "object_position": null,
            "order": null,
            "overflow": null,
            "overflow_x": null,
            "overflow_y": null,
            "padding": null,
            "right": null,
            "top": null,
            "visibility": null,
            "width": null
          }
        },
        "fe72e0c3846844cd8ff9eb984e8bbdd2": {
          "model_module": "@jupyter-widgets/controls",
          "model_name": "DescriptionStyleModel",
          "model_module_version": "1.5.0",
          "state": {
            "_model_module": "@jupyter-widgets/controls",
            "_model_module_version": "1.5.0",
            "_model_name": "DescriptionStyleModel",
            "_view_count": null,
            "_view_module": "@jupyter-widgets/base",
            "_view_module_version": "1.2.0",
            "_view_name": "StyleView",
            "description_width": ""
          }
        },
        "b6c82625fe9843b8a0154fbe570f1475": {
          "model_module": "@jupyter-widgets/controls",
          "model_name": "HBoxModel",
          "model_module_version": "1.5.0",
          "state": {
            "_dom_classes": [],
            "_model_module": "@jupyter-widgets/controls",
            "_model_module_version": "1.5.0",
            "_model_name": "HBoxModel",
            "_view_count": null,
            "_view_module": "@jupyter-widgets/controls",
            "_view_module_version": "1.5.0",
            "_view_name": "HBoxView",
            "box_style": "",
            "children": [
              "IPY_MODEL_4618494d689c4515b13b445a195cf17c",
              "IPY_MODEL_5859a8f9759f4139bc29624d1d4b29cd",
              "IPY_MODEL_6a066e43094946aba0c48bf011db49bd"
            ],
            "layout": "IPY_MODEL_72ccff871cfc4dfb981c6d473cb93c65"
          }
        },
        "4618494d689c4515b13b445a195cf17c": {
          "model_module": "@jupyter-widgets/controls",
          "model_name": "HTMLModel",
          "model_module_version": "1.5.0",
          "state": {
            "_dom_classes": [],
            "_model_module": "@jupyter-widgets/controls",
            "_model_module_version": "1.5.0",
            "_model_name": "HTMLModel",
            "_view_count": null,
            "_view_module": "@jupyter-widgets/controls",
            "_view_module_version": "1.5.0",
            "_view_name": "HTMLView",
            "description": "",
            "description_tooltip": null,
            "layout": "IPY_MODEL_9d3fb0bf8e8e4154a7b7bb8ba1ff5d42",
            "placeholder": "​",
            "style": "IPY_MODEL_57487a55ec8d408ab0a367c9083d1a07",
            "value": "vocab.txt: 100%"
          }
        },
        "5859a8f9759f4139bc29624d1d4b29cd": {
          "model_module": "@jupyter-widgets/controls",
          "model_name": "FloatProgressModel",
          "model_module_version": "1.5.0",
          "state": {
            "_dom_classes": [],
            "_model_module": "@jupyter-widgets/controls",
            "_model_module_version": "1.5.0",
            "_model_name": "FloatProgressModel",
            "_view_count": null,
            "_view_module": "@jupyter-widgets/controls",
            "_view_module_version": "1.5.0",
            "_view_name": "ProgressView",
            "bar_style": "success",
            "description": "",
            "description_tooltip": null,
            "layout": "IPY_MODEL_3a730732407c448b9bd83e48e8d310c5",
            "max": 231508,
            "min": 0,
            "orientation": "horizontal",
            "style": "IPY_MODEL_52a6cae354ae46adad3bddc8a47f9217",
            "value": 231508
          }
        },
        "6a066e43094946aba0c48bf011db49bd": {
          "model_module": "@jupyter-widgets/controls",
          "model_name": "HTMLModel",
          "model_module_version": "1.5.0",
          "state": {
            "_dom_classes": [],
            "_model_module": "@jupyter-widgets/controls",
            "_model_module_version": "1.5.0",
            "_model_name": "HTMLModel",
            "_view_count": null,
            "_view_module": "@jupyter-widgets/controls",
            "_view_module_version": "1.5.0",
            "_view_name": "HTMLView",
            "description": "",
            "description_tooltip": null,
            "layout": "IPY_MODEL_e75f1d3248c240fcbd58ceaccf33aab8",
            "placeholder": "​",
            "style": "IPY_MODEL_17d44d9143d245048f380602aa978e71",
            "value": " 232k/232k [00:00&lt;00:00, 657kB/s]"
          }
        },
        "72ccff871cfc4dfb981c6d473cb93c65": {
          "model_module": "@jupyter-widgets/base",
          "model_name": "LayoutModel",
          "model_module_version": "1.2.0",
          "state": {
            "_model_module": "@jupyter-widgets/base",
            "_model_module_version": "1.2.0",
            "_model_name": "LayoutModel",
            "_view_count": null,
            "_view_module": "@jupyter-widgets/base",
            "_view_module_version": "1.2.0",
            "_view_name": "LayoutView",
            "align_content": null,
            "align_items": null,
            "align_self": null,
            "border": null,
            "bottom": null,
            "display": null,
            "flex": null,
            "flex_flow": null,
            "grid_area": null,
            "grid_auto_columns": null,
            "grid_auto_flow": null,
            "grid_auto_rows": null,
            "grid_column": null,
            "grid_gap": null,
            "grid_row": null,
            "grid_template_areas": null,
            "grid_template_columns": null,
            "grid_template_rows": null,
            "height": null,
            "justify_content": null,
            "justify_items": null,
            "left": null,
            "margin": null,
            "max_height": null,
            "max_width": null,
            "min_height": null,
            "min_width": null,
            "object_fit": null,
            "object_position": null,
            "order": null,
            "overflow": null,
            "overflow_x": null,
            "overflow_y": null,
            "padding": null,
            "right": null,
            "top": null,
            "visibility": null,
            "width": null
          }
        },
        "9d3fb0bf8e8e4154a7b7bb8ba1ff5d42": {
          "model_module": "@jupyter-widgets/base",
          "model_name": "LayoutModel",
          "model_module_version": "1.2.0",
          "state": {
            "_model_module": "@jupyter-widgets/base",
            "_model_module_version": "1.2.0",
            "_model_name": "LayoutModel",
            "_view_count": null,
            "_view_module": "@jupyter-widgets/base",
            "_view_module_version": "1.2.0",
            "_view_name": "LayoutView",
            "align_content": null,
            "align_items": null,
            "align_self": null,
            "border": null,
            "bottom": null,
            "display": null,
            "flex": null,
            "flex_flow": null,
            "grid_area": null,
            "grid_auto_columns": null,
            "grid_auto_flow": null,
            "grid_auto_rows": null,
            "grid_column": null,
            "grid_gap": null,
            "grid_row": null,
            "grid_template_areas": null,
            "grid_template_columns": null,
            "grid_template_rows": null,
            "height": null,
            "justify_content": null,
            "justify_items": null,
            "left": null,
            "margin": null,
            "max_height": null,
            "max_width": null,
            "min_height": null,
            "min_width": null,
            "object_fit": null,
            "object_position": null,
            "order": null,
            "overflow": null,
            "overflow_x": null,
            "overflow_y": null,
            "padding": null,
            "right": null,
            "top": null,
            "visibility": null,
            "width": null
          }
        },
        "57487a55ec8d408ab0a367c9083d1a07": {
          "model_module": "@jupyter-widgets/controls",
          "model_name": "DescriptionStyleModel",
          "model_module_version": "1.5.0",
          "state": {
            "_model_module": "@jupyter-widgets/controls",
            "_model_module_version": "1.5.0",
            "_model_name": "DescriptionStyleModel",
            "_view_count": null,
            "_view_module": "@jupyter-widgets/base",
            "_view_module_version": "1.2.0",
            "_view_name": "StyleView",
            "description_width": ""
          }
        },
        "3a730732407c448b9bd83e48e8d310c5": {
          "model_module": "@jupyter-widgets/base",
          "model_name": "LayoutModel",
          "model_module_version": "1.2.0",
          "state": {
            "_model_module": "@jupyter-widgets/base",
            "_model_module_version": "1.2.0",
            "_model_name": "LayoutModel",
            "_view_count": null,
            "_view_module": "@jupyter-widgets/base",
            "_view_module_version": "1.2.0",
            "_view_name": "LayoutView",
            "align_content": null,
            "align_items": null,
            "align_self": null,
            "border": null,
            "bottom": null,
            "display": null,
            "flex": null,
            "flex_flow": null,
            "grid_area": null,
            "grid_auto_columns": null,
            "grid_auto_flow": null,
            "grid_auto_rows": null,
            "grid_column": null,
            "grid_gap": null,
            "grid_row": null,
            "grid_template_areas": null,
            "grid_template_columns": null,
            "grid_template_rows": null,
            "height": null,
            "justify_content": null,
            "justify_items": null,
            "left": null,
            "margin": null,
            "max_height": null,
            "max_width": null,
            "min_height": null,
            "min_width": null,
            "object_fit": null,
            "object_position": null,
            "order": null,
            "overflow": null,
            "overflow_x": null,
            "overflow_y": null,
            "padding": null,
            "right": null,
            "top": null,
            "visibility": null,
            "width": null
          }
        },
        "52a6cae354ae46adad3bddc8a47f9217": {
          "model_module": "@jupyter-widgets/controls",
          "model_name": "ProgressStyleModel",
          "model_module_version": "1.5.0",
          "state": {
            "_model_module": "@jupyter-widgets/controls",
            "_model_module_version": "1.5.0",
            "_model_name": "ProgressStyleModel",
            "_view_count": null,
            "_view_module": "@jupyter-widgets/base",
            "_view_module_version": "1.2.0",
            "_view_name": "StyleView",
            "bar_color": null,
            "description_width": ""
          }
        },
        "e75f1d3248c240fcbd58ceaccf33aab8": {
          "model_module": "@jupyter-widgets/base",
          "model_name": "LayoutModel",
          "model_module_version": "1.2.0",
          "state": {
            "_model_module": "@jupyter-widgets/base",
            "_model_module_version": "1.2.0",
            "_model_name": "LayoutModel",
            "_view_count": null,
            "_view_module": "@jupyter-widgets/base",
            "_view_module_version": "1.2.0",
            "_view_name": "LayoutView",
            "align_content": null,
            "align_items": null,
            "align_self": null,
            "border": null,
            "bottom": null,
            "display": null,
            "flex": null,
            "flex_flow": null,
            "grid_area": null,
            "grid_auto_columns": null,
            "grid_auto_flow": null,
            "grid_auto_rows": null,
            "grid_column": null,
            "grid_gap": null,
            "grid_row": null,
            "grid_template_areas": null,
            "grid_template_columns": null,
            "grid_template_rows": null,
            "height": null,
            "justify_content": null,
            "justify_items": null,
            "left": null,
            "margin": null,
            "max_height": null,
            "max_width": null,
            "min_height": null,
            "min_width": null,
            "object_fit": null,
            "object_position": null,
            "order": null,
            "overflow": null,
            "overflow_x": null,
            "overflow_y": null,
            "padding": null,
            "right": null,
            "top": null,
            "visibility": null,
            "width": null
          }
        },
        "17d44d9143d245048f380602aa978e71": {
          "model_module": "@jupyter-widgets/controls",
          "model_name": "DescriptionStyleModel",
          "model_module_version": "1.5.0",
          "state": {
            "_model_module": "@jupyter-widgets/controls",
            "_model_module_version": "1.5.0",
            "_model_name": "DescriptionStyleModel",
            "_view_count": null,
            "_view_module": "@jupyter-widgets/base",
            "_view_module_version": "1.2.0",
            "_view_name": "StyleView",
            "description_width": ""
          }
        },
        "e9872ca1da07438a9431efdb0ba205be": {
          "model_module": "@jupyter-widgets/controls",
          "model_name": "HBoxModel",
          "model_module_version": "1.5.0",
          "state": {
            "_dom_classes": [],
            "_model_module": "@jupyter-widgets/controls",
            "_model_module_version": "1.5.0",
            "_model_name": "HBoxModel",
            "_view_count": null,
            "_view_module": "@jupyter-widgets/controls",
            "_view_module_version": "1.5.0",
            "_view_name": "HBoxView",
            "box_style": "",
            "children": [
              "IPY_MODEL_708a6d882ede466cabbb1570473c02af",
              "IPY_MODEL_8cb109f93e85446db784d1010786148a",
              "IPY_MODEL_c1a011832d95446cbb4c100d5fc0a7bf"
            ],
            "layout": "IPY_MODEL_936c9647bc7c43c7b4ae79ae874fd6e2"
          }
        },
        "708a6d882ede466cabbb1570473c02af": {
          "model_module": "@jupyter-widgets/controls",
          "model_name": "HTMLModel",
          "model_module_version": "1.5.0",
          "state": {
            "_dom_classes": [],
            "_model_module": "@jupyter-widgets/controls",
            "_model_module_version": "1.5.0",
            "_model_name": "HTMLModel",
            "_view_count": null,
            "_view_module": "@jupyter-widgets/controls",
            "_view_module_version": "1.5.0",
            "_view_name": "HTMLView",
            "description": "",
            "description_tooltip": null,
            "layout": "IPY_MODEL_eeda3056fee2494baacca84e4f4c40e3",
            "placeholder": "​",
            "style": "IPY_MODEL_3f4c893151e048038610628a01fd84fd",
            "value": "tokenizer.json: 100%"
          }
        },
        "8cb109f93e85446db784d1010786148a": {
          "model_module": "@jupyter-widgets/controls",
          "model_name": "FloatProgressModel",
          "model_module_version": "1.5.0",
          "state": {
            "_dom_classes": [],
            "_model_module": "@jupyter-widgets/controls",
            "_model_module_version": "1.5.0",
            "_model_name": "FloatProgressModel",
            "_view_count": null,
            "_view_module": "@jupyter-widgets/controls",
            "_view_module_version": "1.5.0",
            "_view_name": "ProgressView",
            "bar_style": "success",
            "description": "",
            "description_tooltip": null,
            "layout": "IPY_MODEL_b6617d136d324a9595ef3a697aec2d31",
            "max": 466062,
            "min": 0,
            "orientation": "horizontal",
            "style": "IPY_MODEL_3621d1f5a35d4e1796a57ce910563775",
            "value": 466062
          }
        },
        "c1a011832d95446cbb4c100d5fc0a7bf": {
          "model_module": "@jupyter-widgets/controls",
          "model_name": "HTMLModel",
          "model_module_version": "1.5.0",
          "state": {
            "_dom_classes": [],
            "_model_module": "@jupyter-widgets/controls",
            "_model_module_version": "1.5.0",
            "_model_name": "HTMLModel",
            "_view_count": null,
            "_view_module": "@jupyter-widgets/controls",
            "_view_module_version": "1.5.0",
            "_view_name": "HTMLView",
            "description": "",
            "description_tooltip": null,
            "layout": "IPY_MODEL_612d612e94bb484c9ce3b5c898e23cc9",
            "placeholder": "​",
            "style": "IPY_MODEL_9b61ff427fee4379a1f64eadff6b118e",
            "value": " 466k/466k [00:00&lt;00:00, 1.28MB/s]"
          }
        },
        "936c9647bc7c43c7b4ae79ae874fd6e2": {
          "model_module": "@jupyter-widgets/base",
          "model_name": "LayoutModel",
          "model_module_version": "1.2.0",
          "state": {
            "_model_module": "@jupyter-widgets/base",
            "_model_module_version": "1.2.0",
            "_model_name": "LayoutModel",
            "_view_count": null,
            "_view_module": "@jupyter-widgets/base",
            "_view_module_version": "1.2.0",
            "_view_name": "LayoutView",
            "align_content": null,
            "align_items": null,
            "align_self": null,
            "border": null,
            "bottom": null,
            "display": null,
            "flex": null,
            "flex_flow": null,
            "grid_area": null,
            "grid_auto_columns": null,
            "grid_auto_flow": null,
            "grid_auto_rows": null,
            "grid_column": null,
            "grid_gap": null,
            "grid_row": null,
            "grid_template_areas": null,
            "grid_template_columns": null,
            "grid_template_rows": null,
            "height": null,
            "justify_content": null,
            "justify_items": null,
            "left": null,
            "margin": null,
            "max_height": null,
            "max_width": null,
            "min_height": null,
            "min_width": null,
            "object_fit": null,
            "object_position": null,
            "order": null,
            "overflow": null,
            "overflow_x": null,
            "overflow_y": null,
            "padding": null,
            "right": null,
            "top": null,
            "visibility": null,
            "width": null
          }
        },
        "eeda3056fee2494baacca84e4f4c40e3": {
          "model_module": "@jupyter-widgets/base",
          "model_name": "LayoutModel",
          "model_module_version": "1.2.0",
          "state": {
            "_model_module": "@jupyter-widgets/base",
            "_model_module_version": "1.2.0",
            "_model_name": "LayoutModel",
            "_view_count": null,
            "_view_module": "@jupyter-widgets/base",
            "_view_module_version": "1.2.0",
            "_view_name": "LayoutView",
            "align_content": null,
            "align_items": null,
            "align_self": null,
            "border": null,
            "bottom": null,
            "display": null,
            "flex": null,
            "flex_flow": null,
            "grid_area": null,
            "grid_auto_columns": null,
            "grid_auto_flow": null,
            "grid_auto_rows": null,
            "grid_column": null,
            "grid_gap": null,
            "grid_row": null,
            "grid_template_areas": null,
            "grid_template_columns": null,
            "grid_template_rows": null,
            "height": null,
            "justify_content": null,
            "justify_items": null,
            "left": null,
            "margin": null,
            "max_height": null,
            "max_width": null,
            "min_height": null,
            "min_width": null,
            "object_fit": null,
            "object_position": null,
            "order": null,
            "overflow": null,
            "overflow_x": null,
            "overflow_y": null,
            "padding": null,
            "right": null,
            "top": null,
            "visibility": null,
            "width": null
          }
        },
        "3f4c893151e048038610628a01fd84fd": {
          "model_module": "@jupyter-widgets/controls",
          "model_name": "DescriptionStyleModel",
          "model_module_version": "1.5.0",
          "state": {
            "_model_module": "@jupyter-widgets/controls",
            "_model_module_version": "1.5.0",
            "_model_name": "DescriptionStyleModel",
            "_view_count": null,
            "_view_module": "@jupyter-widgets/base",
            "_view_module_version": "1.2.0",
            "_view_name": "StyleView",
            "description_width": ""
          }
        },
        "b6617d136d324a9595ef3a697aec2d31": {
          "model_module": "@jupyter-widgets/base",
          "model_name": "LayoutModel",
          "model_module_version": "1.2.0",
          "state": {
            "_model_module": "@jupyter-widgets/base",
            "_model_module_version": "1.2.0",
            "_model_name": "LayoutModel",
            "_view_count": null,
            "_view_module": "@jupyter-widgets/base",
            "_view_module_version": "1.2.0",
            "_view_name": "LayoutView",
            "align_content": null,
            "align_items": null,
            "align_self": null,
            "border": null,
            "bottom": null,
            "display": null,
            "flex": null,
            "flex_flow": null,
            "grid_area": null,
            "grid_auto_columns": null,
            "grid_auto_flow": null,
            "grid_auto_rows": null,
            "grid_column": null,
            "grid_gap": null,
            "grid_row": null,
            "grid_template_areas": null,
            "grid_template_columns": null,
            "grid_template_rows": null,
            "height": null,
            "justify_content": null,
            "justify_items": null,
            "left": null,
            "margin": null,
            "max_height": null,
            "max_width": null,
            "min_height": null,
            "min_width": null,
            "object_fit": null,
            "object_position": null,
            "order": null,
            "overflow": null,
            "overflow_x": null,
            "overflow_y": null,
            "padding": null,
            "right": null,
            "top": null,
            "visibility": null,
            "width": null
          }
        },
        "3621d1f5a35d4e1796a57ce910563775": {
          "model_module": "@jupyter-widgets/controls",
          "model_name": "ProgressStyleModel",
          "model_module_version": "1.5.0",
          "state": {
            "_model_module": "@jupyter-widgets/controls",
            "_model_module_version": "1.5.0",
            "_model_name": "ProgressStyleModel",
            "_view_count": null,
            "_view_module": "@jupyter-widgets/base",
            "_view_module_version": "1.2.0",
            "_view_name": "StyleView",
            "bar_color": null,
            "description_width": ""
          }
        },
        "612d612e94bb484c9ce3b5c898e23cc9": {
          "model_module": "@jupyter-widgets/base",
          "model_name": "LayoutModel",
          "model_module_version": "1.2.0",
          "state": {
            "_model_module": "@jupyter-widgets/base",
            "_model_module_version": "1.2.0",
            "_model_name": "LayoutModel",
            "_view_count": null,
            "_view_module": "@jupyter-widgets/base",
            "_view_module_version": "1.2.0",
            "_view_name": "LayoutView",
            "align_content": null,
            "align_items": null,
            "align_self": null,
            "border": null,
            "bottom": null,
            "display": null,
            "flex": null,
            "flex_flow": null,
            "grid_area": null,
            "grid_auto_columns": null,
            "grid_auto_flow": null,
            "grid_auto_rows": null,
            "grid_column": null,
            "grid_gap": null,
            "grid_row": null,
            "grid_template_areas": null,
            "grid_template_columns": null,
            "grid_template_rows": null,
            "height": null,
            "justify_content": null,
            "justify_items": null,
            "left": null,
            "margin": null,
            "max_height": null,
            "max_width": null,
            "min_height": null,
            "min_width": null,
            "object_fit": null,
            "object_position": null,
            "order": null,
            "overflow": null,
            "overflow_x": null,
            "overflow_y": null,
            "padding": null,
            "right": null,
            "top": null,
            "visibility": null,
            "width": null
          }
        },
        "9b61ff427fee4379a1f64eadff6b118e": {
          "model_module": "@jupyter-widgets/controls",
          "model_name": "DescriptionStyleModel",
          "model_module_version": "1.5.0",
          "state": {
            "_model_module": "@jupyter-widgets/controls",
            "_model_module_version": "1.5.0",
            "_model_name": "DescriptionStyleModel",
            "_view_count": null,
            "_view_module": "@jupyter-widgets/base",
            "_view_module_version": "1.2.0",
            "_view_name": "StyleView",
            "description_width": ""
          }
        },
        "8f3380701582493ab3d5c48fe7f768be": {
          "model_module": "@jupyter-widgets/controls",
          "model_name": "HBoxModel",
          "model_module_version": "1.5.0",
          "state": {
            "_dom_classes": [],
            "_model_module": "@jupyter-widgets/controls",
            "_model_module_version": "1.5.0",
            "_model_name": "HBoxModel",
            "_view_count": null,
            "_view_module": "@jupyter-widgets/controls",
            "_view_module_version": "1.5.0",
            "_view_name": "HBoxView",
            "box_style": "",
            "children": [
              "IPY_MODEL_fffb53eacaab4c13b49165064f13c5e0",
              "IPY_MODEL_02b1bbb525df47d7a0ae05b00a62c7ec",
              "IPY_MODEL_6c7271897bc948abb05c7d039ff0c27a"
            ],
            "layout": "IPY_MODEL_226780dccacd4ab2b90999ac8b857edd"
          }
        },
        "fffb53eacaab4c13b49165064f13c5e0": {
          "model_module": "@jupyter-widgets/controls",
          "model_name": "HTMLModel",
          "model_module_version": "1.5.0",
          "state": {
            "_dom_classes": [],
            "_model_module": "@jupyter-widgets/controls",
            "_model_module_version": "1.5.0",
            "_model_name": "HTMLModel",
            "_view_count": null,
            "_view_module": "@jupyter-widgets/controls",
            "_view_module_version": "1.5.0",
            "_view_name": "HTMLView",
            "description": "",
            "description_tooltip": null,
            "layout": "IPY_MODEL_e62004bb61954adebee5c452903e00b1",
            "placeholder": "​",
            "style": "IPY_MODEL_ed417e348dc44fe799ca16ee805a6a5f",
            "value": "config.json: 100%"
          }
        },
        "02b1bbb525df47d7a0ae05b00a62c7ec": {
          "model_module": "@jupyter-widgets/controls",
          "model_name": "FloatProgressModel",
          "model_module_version": "1.5.0",
          "state": {
            "_dom_classes": [],
            "_model_module": "@jupyter-widgets/controls",
            "_model_module_version": "1.5.0",
            "_model_name": "FloatProgressModel",
            "_view_count": null,
            "_view_module": "@jupyter-widgets/controls",
            "_view_module_version": "1.5.0",
            "_view_name": "ProgressView",
            "bar_style": "success",
            "description": "",
            "description_tooltip": null,
            "layout": "IPY_MODEL_fe30bc7d99964ef28970f9fec2a36738",
            "max": 570,
            "min": 0,
            "orientation": "horizontal",
            "style": "IPY_MODEL_00e98325590242e58315a6a8b02a442e",
            "value": 570
          }
        },
        "6c7271897bc948abb05c7d039ff0c27a": {
          "model_module": "@jupyter-widgets/controls",
          "model_name": "HTMLModel",
          "model_module_version": "1.5.0",
          "state": {
            "_dom_classes": [],
            "_model_module": "@jupyter-widgets/controls",
            "_model_module_version": "1.5.0",
            "_model_name": "HTMLModel",
            "_view_count": null,
            "_view_module": "@jupyter-widgets/controls",
            "_view_module_version": "1.5.0",
            "_view_name": "HTMLView",
            "description": "",
            "description_tooltip": null,
            "layout": "IPY_MODEL_9a29fd1e675a4d46972ac10968248477",
            "placeholder": "​",
            "style": "IPY_MODEL_bfe3e527903d409ea811a26f3211678a",
            "value": " 570/570 [00:00&lt;00:00, 49.0kB/s]"
          }
        },
        "226780dccacd4ab2b90999ac8b857edd": {
          "model_module": "@jupyter-widgets/base",
          "model_name": "LayoutModel",
          "model_module_version": "1.2.0",
          "state": {
            "_model_module": "@jupyter-widgets/base",
            "_model_module_version": "1.2.0",
            "_model_name": "LayoutModel",
            "_view_count": null,
            "_view_module": "@jupyter-widgets/base",
            "_view_module_version": "1.2.0",
            "_view_name": "LayoutView",
            "align_content": null,
            "align_items": null,
            "align_self": null,
            "border": null,
            "bottom": null,
            "display": null,
            "flex": null,
            "flex_flow": null,
            "grid_area": null,
            "grid_auto_columns": null,
            "grid_auto_flow": null,
            "grid_auto_rows": null,
            "grid_column": null,
            "grid_gap": null,
            "grid_row": null,
            "grid_template_areas": null,
            "grid_template_columns": null,
            "grid_template_rows": null,
            "height": null,
            "justify_content": null,
            "justify_items": null,
            "left": null,
            "margin": null,
            "max_height": null,
            "max_width": null,
            "min_height": null,
            "min_width": null,
            "object_fit": null,
            "object_position": null,
            "order": null,
            "overflow": null,
            "overflow_x": null,
            "overflow_y": null,
            "padding": null,
            "right": null,
            "top": null,
            "visibility": null,
            "width": null
          }
        },
        "e62004bb61954adebee5c452903e00b1": {
          "model_module": "@jupyter-widgets/base",
          "model_name": "LayoutModel",
          "model_module_version": "1.2.0",
          "state": {
            "_model_module": "@jupyter-widgets/base",
            "_model_module_version": "1.2.0",
            "_model_name": "LayoutModel",
            "_view_count": null,
            "_view_module": "@jupyter-widgets/base",
            "_view_module_version": "1.2.0",
            "_view_name": "LayoutView",
            "align_content": null,
            "align_items": null,
            "align_self": null,
            "border": null,
            "bottom": null,
            "display": null,
            "flex": null,
            "flex_flow": null,
            "grid_area": null,
            "grid_auto_columns": null,
            "grid_auto_flow": null,
            "grid_auto_rows": null,
            "grid_column": null,
            "grid_gap": null,
            "grid_row": null,
            "grid_template_areas": null,
            "grid_template_columns": null,
            "grid_template_rows": null,
            "height": null,
            "justify_content": null,
            "justify_items": null,
            "left": null,
            "margin": null,
            "max_height": null,
            "max_width": null,
            "min_height": null,
            "min_width": null,
            "object_fit": null,
            "object_position": null,
            "order": null,
            "overflow": null,
            "overflow_x": null,
            "overflow_y": null,
            "padding": null,
            "right": null,
            "top": null,
            "visibility": null,
            "width": null
          }
        },
        "ed417e348dc44fe799ca16ee805a6a5f": {
          "model_module": "@jupyter-widgets/controls",
          "model_name": "DescriptionStyleModel",
          "model_module_version": "1.5.0",
          "state": {
            "_model_module": "@jupyter-widgets/controls",
            "_model_module_version": "1.5.0",
            "_model_name": "DescriptionStyleModel",
            "_view_count": null,
            "_view_module": "@jupyter-widgets/base",
            "_view_module_version": "1.2.0",
            "_view_name": "StyleView",
            "description_width": ""
          }
        },
        "fe30bc7d99964ef28970f9fec2a36738": {
          "model_module": "@jupyter-widgets/base",
          "model_name": "LayoutModel",
          "model_module_version": "1.2.0",
          "state": {
            "_model_module": "@jupyter-widgets/base",
            "_model_module_version": "1.2.0",
            "_model_name": "LayoutModel",
            "_view_count": null,
            "_view_module": "@jupyter-widgets/base",
            "_view_module_version": "1.2.0",
            "_view_name": "LayoutView",
            "align_content": null,
            "align_items": null,
            "align_self": null,
            "border": null,
            "bottom": null,
            "display": null,
            "flex": null,
            "flex_flow": null,
            "grid_area": null,
            "grid_auto_columns": null,
            "grid_auto_flow": null,
            "grid_auto_rows": null,
            "grid_column": null,
            "grid_gap": null,
            "grid_row": null,
            "grid_template_areas": null,
            "grid_template_columns": null,
            "grid_template_rows": null,
            "height": null,
            "justify_content": null,
            "justify_items": null,
            "left": null,
            "margin": null,
            "max_height": null,
            "max_width": null,
            "min_height": null,
            "min_width": null,
            "object_fit": null,
            "object_position": null,
            "order": null,
            "overflow": null,
            "overflow_x": null,
            "overflow_y": null,
            "padding": null,
            "right": null,
            "top": null,
            "visibility": null,
            "width": null
          }
        },
        "00e98325590242e58315a6a8b02a442e": {
          "model_module": "@jupyter-widgets/controls",
          "model_name": "ProgressStyleModel",
          "model_module_version": "1.5.0",
          "state": {
            "_model_module": "@jupyter-widgets/controls",
            "_model_module_version": "1.5.0",
            "_model_name": "ProgressStyleModel",
            "_view_count": null,
            "_view_module": "@jupyter-widgets/base",
            "_view_module_version": "1.2.0",
            "_view_name": "StyleView",
            "bar_color": null,
            "description_width": ""
          }
        },
        "9a29fd1e675a4d46972ac10968248477": {
          "model_module": "@jupyter-widgets/base",
          "model_name": "LayoutModel",
          "model_module_version": "1.2.0",
          "state": {
            "_model_module": "@jupyter-widgets/base",
            "_model_module_version": "1.2.0",
            "_model_name": "LayoutModel",
            "_view_count": null,
            "_view_module": "@jupyter-widgets/base",
            "_view_module_version": "1.2.0",
            "_view_name": "LayoutView",
            "align_content": null,
            "align_items": null,
            "align_self": null,
            "border": null,
            "bottom": null,
            "display": null,
            "flex": null,
            "flex_flow": null,
            "grid_area": null,
            "grid_auto_columns": null,
            "grid_auto_flow": null,
            "grid_auto_rows": null,
            "grid_column": null,
            "grid_gap": null,
            "grid_row": null,
            "grid_template_areas": null,
            "grid_template_columns": null,
            "grid_template_rows": null,
            "height": null,
            "justify_content": null,
            "justify_items": null,
            "left": null,
            "margin": null,
            "max_height": null,
            "max_width": null,
            "min_height": null,
            "min_width": null,
            "object_fit": null,
            "object_position": null,
            "order": null,
            "overflow": null,
            "overflow_x": null,
            "overflow_y": null,
            "padding": null,
            "right": null,
            "top": null,
            "visibility": null,
            "width": null
          }
        },
        "bfe3e527903d409ea811a26f3211678a": {
          "model_module": "@jupyter-widgets/controls",
          "model_name": "DescriptionStyleModel",
          "model_module_version": "1.5.0",
          "state": {
            "_model_module": "@jupyter-widgets/controls",
            "_model_module_version": "1.5.0",
            "_model_name": "DescriptionStyleModel",
            "_view_count": null,
            "_view_module": "@jupyter-widgets/base",
            "_view_module_version": "1.2.0",
            "_view_name": "StyleView",
            "description_width": ""
          }
        },
        "34596bb8805e425ab1f8357557680113": {
          "model_module": "@jupyter-widgets/controls",
          "model_name": "HBoxModel",
          "model_module_version": "1.5.0",
          "state": {
            "_dom_classes": [],
            "_model_module": "@jupyter-widgets/controls",
            "_model_module_version": "1.5.0",
            "_model_name": "HBoxModel",
            "_view_count": null,
            "_view_module": "@jupyter-widgets/controls",
            "_view_module_version": "1.5.0",
            "_view_name": "HBoxView",
            "box_style": "",
            "children": [
              "IPY_MODEL_f2a4d08c69e04f92a8a13a4b1beca81e",
              "IPY_MODEL_d6fcd649fe0543dd9d88e0182876b37c",
              "IPY_MODEL_bd27f73bca094ba988f572300973a929"
            ],
            "layout": "IPY_MODEL_6dfeaad105e9415ba9205123ca0ed94c"
          }
        },
        "f2a4d08c69e04f92a8a13a4b1beca81e": {
          "model_module": "@jupyter-widgets/controls",
          "model_name": "HTMLModel",
          "model_module_version": "1.5.0",
          "state": {
            "_dom_classes": [],
            "_model_module": "@jupyter-widgets/controls",
            "_model_module_version": "1.5.0",
            "_model_name": "HTMLModel",
            "_view_count": null,
            "_view_module": "@jupyter-widgets/controls",
            "_view_module_version": "1.5.0",
            "_view_name": "HTMLView",
            "description": "",
            "description_tooltip": null,
            "layout": "IPY_MODEL_22bfc76ebbe84c40baa1ce6b24930957",
            "placeholder": "​",
            "style": "IPY_MODEL_bb3c71b4e0fb4d0ca7c17f40d9cf38d2",
            "value": "model.safetensors: 100%"
          }
        },
        "d6fcd649fe0543dd9d88e0182876b37c": {
          "model_module": "@jupyter-widgets/controls",
          "model_name": "FloatProgressModel",
          "model_module_version": "1.5.0",
          "state": {
            "_dom_classes": [],
            "_model_module": "@jupyter-widgets/controls",
            "_model_module_version": "1.5.0",
            "_model_name": "FloatProgressModel",
            "_view_count": null,
            "_view_module": "@jupyter-widgets/controls",
            "_view_module_version": "1.5.0",
            "_view_name": "ProgressView",
            "bar_style": "success",
            "description": "",
            "description_tooltip": null,
            "layout": "IPY_MODEL_5c8ee87c04a84c8295e35ea975c8119d",
            "max": 440449768,
            "min": 0,
            "orientation": "horizontal",
            "style": "IPY_MODEL_06433f25cc42468893c02de71a6328d2",
            "value": 440449768
          }
        },
        "bd27f73bca094ba988f572300973a929": {
          "model_module": "@jupyter-widgets/controls",
          "model_name": "HTMLModel",
          "model_module_version": "1.5.0",
          "state": {
            "_dom_classes": [],
            "_model_module": "@jupyter-widgets/controls",
            "_model_module_version": "1.5.0",
            "_model_name": "HTMLModel",
            "_view_count": null,
            "_view_module": "@jupyter-widgets/controls",
            "_view_module_version": "1.5.0",
            "_view_name": "HTMLView",
            "description": "",
            "description_tooltip": null,
            "layout": "IPY_MODEL_a5d4831203d847de8ed3e92b2a161fa5",
            "placeholder": "​",
            "style": "IPY_MODEL_3437cf86d7c14789b809275e8ef08d37",
            "value": " 440M/440M [00:01&lt;00:00, 246MB/s]"
          }
        },
        "6dfeaad105e9415ba9205123ca0ed94c": {
          "model_module": "@jupyter-widgets/base",
          "model_name": "LayoutModel",
          "model_module_version": "1.2.0",
          "state": {
            "_model_module": "@jupyter-widgets/base",
            "_model_module_version": "1.2.0",
            "_model_name": "LayoutModel",
            "_view_count": null,
            "_view_module": "@jupyter-widgets/base",
            "_view_module_version": "1.2.0",
            "_view_name": "LayoutView",
            "align_content": null,
            "align_items": null,
            "align_self": null,
            "border": null,
            "bottom": null,
            "display": null,
            "flex": null,
            "flex_flow": null,
            "grid_area": null,
            "grid_auto_columns": null,
            "grid_auto_flow": null,
            "grid_auto_rows": null,
            "grid_column": null,
            "grid_gap": null,
            "grid_row": null,
            "grid_template_areas": null,
            "grid_template_columns": null,
            "grid_template_rows": null,
            "height": null,
            "justify_content": null,
            "justify_items": null,
            "left": null,
            "margin": null,
            "max_height": null,
            "max_width": null,
            "min_height": null,
            "min_width": null,
            "object_fit": null,
            "object_position": null,
            "order": null,
            "overflow": null,
            "overflow_x": null,
            "overflow_y": null,
            "padding": null,
            "right": null,
            "top": null,
            "visibility": null,
            "width": null
          }
        },
        "22bfc76ebbe84c40baa1ce6b24930957": {
          "model_module": "@jupyter-widgets/base",
          "model_name": "LayoutModel",
          "model_module_version": "1.2.0",
          "state": {
            "_model_module": "@jupyter-widgets/base",
            "_model_module_version": "1.2.0",
            "_model_name": "LayoutModel",
            "_view_count": null,
            "_view_module": "@jupyter-widgets/base",
            "_view_module_version": "1.2.0",
            "_view_name": "LayoutView",
            "align_content": null,
            "align_items": null,
            "align_self": null,
            "border": null,
            "bottom": null,
            "display": null,
            "flex": null,
            "flex_flow": null,
            "grid_area": null,
            "grid_auto_columns": null,
            "grid_auto_flow": null,
            "grid_auto_rows": null,
            "grid_column": null,
            "grid_gap": null,
            "grid_row": null,
            "grid_template_areas": null,
            "grid_template_columns": null,
            "grid_template_rows": null,
            "height": null,
            "justify_content": null,
            "justify_items": null,
            "left": null,
            "margin": null,
            "max_height": null,
            "max_width": null,
            "min_height": null,
            "min_width": null,
            "object_fit": null,
            "object_position": null,
            "order": null,
            "overflow": null,
            "overflow_x": null,
            "overflow_y": null,
            "padding": null,
            "right": null,
            "top": null,
            "visibility": null,
            "width": null
          }
        },
        "bb3c71b4e0fb4d0ca7c17f40d9cf38d2": {
          "model_module": "@jupyter-widgets/controls",
          "model_name": "DescriptionStyleModel",
          "model_module_version": "1.5.0",
          "state": {
            "_model_module": "@jupyter-widgets/controls",
            "_model_module_version": "1.5.0",
            "_model_name": "DescriptionStyleModel",
            "_view_count": null,
            "_view_module": "@jupyter-widgets/base",
            "_view_module_version": "1.2.0",
            "_view_name": "StyleView",
            "description_width": ""
          }
        },
        "5c8ee87c04a84c8295e35ea975c8119d": {
          "model_module": "@jupyter-widgets/base",
          "model_name": "LayoutModel",
          "model_module_version": "1.2.0",
          "state": {
            "_model_module": "@jupyter-widgets/base",
            "_model_module_version": "1.2.0",
            "_model_name": "LayoutModel",
            "_view_count": null,
            "_view_module": "@jupyter-widgets/base",
            "_view_module_version": "1.2.0",
            "_view_name": "LayoutView",
            "align_content": null,
            "align_items": null,
            "align_self": null,
            "border": null,
            "bottom": null,
            "display": null,
            "flex": null,
            "flex_flow": null,
            "grid_area": null,
            "grid_auto_columns": null,
            "grid_auto_flow": null,
            "grid_auto_rows": null,
            "grid_column": null,
            "grid_gap": null,
            "grid_row": null,
            "grid_template_areas": null,
            "grid_template_columns": null,
            "grid_template_rows": null,
            "height": null,
            "justify_content": null,
            "justify_items": null,
            "left": null,
            "margin": null,
            "max_height": null,
            "max_width": null,
            "min_height": null,
            "min_width": null,
            "object_fit": null,
            "object_position": null,
            "order": null,
            "overflow": null,
            "overflow_x": null,
            "overflow_y": null,
            "padding": null,
            "right": null,
            "top": null,
            "visibility": null,
            "width": null
          }
        },
        "06433f25cc42468893c02de71a6328d2": {
          "model_module": "@jupyter-widgets/controls",
          "model_name": "ProgressStyleModel",
          "model_module_version": "1.5.0",
          "state": {
            "_model_module": "@jupyter-widgets/controls",
            "_model_module_version": "1.5.0",
            "_model_name": "ProgressStyleModel",
            "_view_count": null,
            "_view_module": "@jupyter-widgets/base",
            "_view_module_version": "1.2.0",
            "_view_name": "StyleView",
            "bar_color": null,
            "description_width": ""
          }
        },
        "a5d4831203d847de8ed3e92b2a161fa5": {
          "model_module": "@jupyter-widgets/base",
          "model_name": "LayoutModel",
          "model_module_version": "1.2.0",
          "state": {
            "_model_module": "@jupyter-widgets/base",
            "_model_module_version": "1.2.0",
            "_model_name": "LayoutModel",
            "_view_count": null,
            "_view_module": "@jupyter-widgets/base",
            "_view_module_version": "1.2.0",
            "_view_name": "LayoutView",
            "align_content": null,
            "align_items": null,
            "align_self": null,
            "border": null,
            "bottom": null,
            "display": null,
            "flex": null,
            "flex_flow": null,
            "grid_area": null,
            "grid_auto_columns": null,
            "grid_auto_flow": null,
            "grid_auto_rows": null,
            "grid_column": null,
            "grid_gap": null,
            "grid_row": null,
            "grid_template_areas": null,
            "grid_template_columns": null,
            "grid_template_rows": null,
            "height": null,
            "justify_content": null,
            "justify_items": null,
            "left": null,
            "margin": null,
            "max_height": null,
            "max_width": null,
            "min_height": null,
            "min_width": null,
            "object_fit": null,
            "object_position": null,
            "order": null,
            "overflow": null,
            "overflow_x": null,
            "overflow_y": null,
            "padding": null,
            "right": null,
            "top": null,
            "visibility": null,
            "width": null
          }
        },
        "3437cf86d7c14789b809275e8ef08d37": {
          "model_module": "@jupyter-widgets/controls",
          "model_name": "DescriptionStyleModel",
          "model_module_version": "1.5.0",
          "state": {
            "_model_module": "@jupyter-widgets/controls",
            "_model_module_version": "1.5.0",
            "_model_name": "DescriptionStyleModel",
            "_view_count": null,
            "_view_module": "@jupyter-widgets/base",
            "_view_module_version": "1.2.0",
            "_view_name": "StyleView",
            "description_width": ""
          }
        }
      }
    },
    "kaggle": {
      "accelerator": "nvidiaTeslaT4",
      "dataSources": [
        {
          "sourceId": 320111,
          "sourceType": "datasetVersion",
          "datasetId": 134715
        }
      ],
      "dockerImageVersionId": 31012,
      "isInternetEnabled": true,
      "language": "python",
      "sourceType": "notebook",
      "isGpuEnabled": true
    }
  },
  "nbformat_minor": 0,
  "nbformat": 4,
  "cells": [
    {
      "cell_type": "markdown",
      "source": [
        "# Importing Needed Liberaries"
      ],
      "metadata": {
        "id": "xQZUVf282YCp"
      }
    },
    {
      "cell_type": "code",
      "source": [
        "!pip install transformers datasets scikit-learn"
      ],
      "metadata": {
        "colab": {
          "base_uri": "https://localhost:8080/"
        },
        "id": "jLbiXzwVcmh6",
        "outputId": "8b13fe09-fca5-469b-b113-8cae0378071e",
        "trusted": true,
        "execution": {
          "iopub.status.busy": "2025-05-09T07:27:58.512589Z",
          "iopub.execute_input": "2025-05-09T07:27:58.513246Z",
          "iopub.status.idle": "2025-05-09T07:28:02.992610Z",
          "shell.execute_reply.started": "2025-05-09T07:27:58.513215Z",
          "shell.execute_reply": "2025-05-09T07:28:02.991926Z"
        }
      },
      "outputs": [
        {
          "output_type": "stream",
          "name": "stdout",
          "text": [
            "Requirement already satisfied: transformers in /usr/local/lib/python3.11/dist-packages (4.51.3)\n",
            "Collecting datasets\n",
            "  Downloading datasets-3.6.0-py3-none-any.whl.metadata (19 kB)\n",
            "Requirement already satisfied: scikit-learn in /usr/local/lib/python3.11/dist-packages (1.6.1)\n",
            "Requirement already satisfied: filelock in /usr/local/lib/python3.11/dist-packages (from transformers) (3.18.0)\n",
            "Requirement already satisfied: huggingface-hub<1.0,>=0.30.0 in /usr/local/lib/python3.11/dist-packages (from transformers) (0.30.2)\n",
            "Requirement already satisfied: numpy>=1.17 in /usr/local/lib/python3.11/dist-packages (from transformers) (2.0.2)\n",
            "Requirement already satisfied: packaging>=20.0 in /usr/local/lib/python3.11/dist-packages (from transformers) (24.2)\n",
            "Requirement already satisfied: pyyaml>=5.1 in /usr/local/lib/python3.11/dist-packages (from transformers) (6.0.2)\n",
            "Requirement already satisfied: regex!=2019.12.17 in /usr/local/lib/python3.11/dist-packages (from transformers) (2024.11.6)\n",
            "Requirement already satisfied: requests in /usr/local/lib/python3.11/dist-packages (from transformers) (2.32.3)\n",
            "Requirement already satisfied: tokenizers<0.22,>=0.21 in /usr/local/lib/python3.11/dist-packages (from transformers) (0.21.1)\n",
            "Requirement already satisfied: safetensors>=0.4.3 in /usr/local/lib/python3.11/dist-packages (from transformers) (0.5.3)\n",
            "Requirement already satisfied: tqdm>=4.27 in /usr/local/lib/python3.11/dist-packages (from transformers) (4.67.1)\n",
            "Requirement already satisfied: pyarrow>=15.0.0 in /usr/local/lib/python3.11/dist-packages (from datasets) (18.1.0)\n",
            "Collecting dill<0.3.9,>=0.3.0 (from datasets)\n",
            "  Downloading dill-0.3.8-py3-none-any.whl.metadata (10 kB)\n",
            "Requirement already satisfied: pandas in /usr/local/lib/python3.11/dist-packages (from datasets) (2.2.2)\n",
            "Collecting xxhash (from datasets)\n",
            "  Downloading xxhash-3.5.0-cp311-cp311-manylinux_2_17_x86_64.manylinux2014_x86_64.whl.metadata (12 kB)\n",
            "Collecting multiprocess<0.70.17 (from datasets)\n",
            "  Downloading multiprocess-0.70.16-py311-none-any.whl.metadata (7.2 kB)\n",
            "Collecting fsspec<=2025.3.0,>=2023.1.0 (from fsspec[http]<=2025.3.0,>=2023.1.0->datasets)\n",
            "  Downloading fsspec-2025.3.0-py3-none-any.whl.metadata (11 kB)\n",
            "Requirement already satisfied: scipy>=1.6.0 in /usr/local/lib/python3.11/dist-packages (from scikit-learn) (1.15.2)\n",
            "Requirement already satisfied: joblib>=1.2.0 in /usr/local/lib/python3.11/dist-packages (from scikit-learn) (1.4.2)\n",
            "Requirement already satisfied: threadpoolctl>=3.1.0 in /usr/local/lib/python3.11/dist-packages (from scikit-learn) (3.6.0)\n",
            "Requirement already satisfied: aiohttp!=4.0.0a0,!=4.0.0a1 in /usr/local/lib/python3.11/dist-packages (from fsspec[http]<=2025.3.0,>=2023.1.0->datasets) (3.11.15)\n",
            "Requirement already satisfied: typing-extensions>=3.7.4.3 in /usr/local/lib/python3.11/dist-packages (from huggingface-hub<1.0,>=0.30.0->transformers) (4.13.2)\n",
            "Requirement already satisfied: charset-normalizer<4,>=2 in /usr/local/lib/python3.11/dist-packages (from requests->transformers) (3.4.1)\n",
            "Requirement already satisfied: idna<4,>=2.5 in /usr/local/lib/python3.11/dist-packages (from requests->transformers) (3.10)\n",
            "Requirement already satisfied: urllib3<3,>=1.21.1 in /usr/local/lib/python3.11/dist-packages (from requests->transformers) (2.4.0)\n",
            "Requirement already satisfied: certifi>=2017.4.17 in /usr/local/lib/python3.11/dist-packages (from requests->transformers) (2025.4.26)\n",
            "Requirement already satisfied: python-dateutil>=2.8.2 in /usr/local/lib/python3.11/dist-packages (from pandas->datasets) (2.9.0.post0)\n",
            "Requirement already satisfied: pytz>=2020.1 in /usr/local/lib/python3.11/dist-packages (from pandas->datasets) (2025.2)\n",
            "Requirement already satisfied: tzdata>=2022.7 in /usr/local/lib/python3.11/dist-packages (from pandas->datasets) (2025.2)\n",
            "Requirement already satisfied: aiohappyeyeballs>=2.3.0 in /usr/local/lib/python3.11/dist-packages (from aiohttp!=4.0.0a0,!=4.0.0a1->fsspec[http]<=2025.3.0,>=2023.1.0->datasets) (2.6.1)\n",
            "Requirement already satisfied: aiosignal>=1.1.2 in /usr/local/lib/python3.11/dist-packages (from aiohttp!=4.0.0a0,!=4.0.0a1->fsspec[http]<=2025.3.0,>=2023.1.0->datasets) (1.3.2)\n",
            "Requirement already satisfied: attrs>=17.3.0 in /usr/local/lib/python3.11/dist-packages (from aiohttp!=4.0.0a0,!=4.0.0a1->fsspec[http]<=2025.3.0,>=2023.1.0->datasets) (25.3.0)\n",
            "Requirement already satisfied: frozenlist>=1.1.1 in /usr/local/lib/python3.11/dist-packages (from aiohttp!=4.0.0a0,!=4.0.0a1->fsspec[http]<=2025.3.0,>=2023.1.0->datasets) (1.6.0)\n",
            "Requirement already satisfied: multidict<7.0,>=4.5 in /usr/local/lib/python3.11/dist-packages (from aiohttp!=4.0.0a0,!=4.0.0a1->fsspec[http]<=2025.3.0,>=2023.1.0->datasets) (6.4.3)\n",
            "Requirement already satisfied: propcache>=0.2.0 in /usr/local/lib/python3.11/dist-packages (from aiohttp!=4.0.0a0,!=4.0.0a1->fsspec[http]<=2025.3.0,>=2023.1.0->datasets) (0.3.1)\n",
            "Requirement already satisfied: yarl<2.0,>=1.17.0 in /usr/local/lib/python3.11/dist-packages (from aiohttp!=4.0.0a0,!=4.0.0a1->fsspec[http]<=2025.3.0,>=2023.1.0->datasets) (1.20.0)\n",
            "Requirement already satisfied: six>=1.5 in /usr/local/lib/python3.11/dist-packages (from python-dateutil>=2.8.2->pandas->datasets) (1.17.0)\n",
            "Downloading datasets-3.6.0-py3-none-any.whl (491 kB)\n",
            "\u001b[2K   \u001b[90m━━━━━━━━━━━━━━━━━━━━━━━━━━━━━━━━━━━━━━━━\u001b[0m \u001b[32m491.5/491.5 kB\u001b[0m \u001b[31m6.9 MB/s\u001b[0m eta \u001b[36m0:00:00\u001b[0m\n",
            "\u001b[?25hDownloading dill-0.3.8-py3-none-any.whl (116 kB)\n",
            "\u001b[2K   \u001b[90m━━━━━━━━━━━━━━━━━━━━━━━━━━━━━━━━━━━━━━━━\u001b[0m \u001b[32m116.3/116.3 kB\u001b[0m \u001b[31m6.6 MB/s\u001b[0m eta \u001b[36m0:00:00\u001b[0m\n",
            "\u001b[?25hDownloading fsspec-2025.3.0-py3-none-any.whl (193 kB)\n",
            "\u001b[2K   \u001b[90m━━━━━━━━━━━━━━━━━━━━━━━━━━━━━━━━━━━━━━━━\u001b[0m \u001b[32m193.6/193.6 kB\u001b[0m \u001b[31m8.7 MB/s\u001b[0m eta \u001b[36m0:00:00\u001b[0m\n",
            "\u001b[?25hDownloading multiprocess-0.70.16-py311-none-any.whl (143 kB)\n",
            "\u001b[2K   \u001b[90m━━━━━━━━━━━━━━━━━━━━━━━━━━━━━━━━━━━━━━━━\u001b[0m \u001b[32m143.5/143.5 kB\u001b[0m \u001b[31m9.5 MB/s\u001b[0m eta \u001b[36m0:00:00\u001b[0m\n",
            "\u001b[?25hDownloading xxhash-3.5.0-cp311-cp311-manylinux_2_17_x86_64.manylinux2014_x86_64.whl (194 kB)\n",
            "\u001b[2K   \u001b[90m━━━━━━━━━━━━━━━━━━━━━━━━━━━━━━━━━━━━━━━━\u001b[0m \u001b[32m194.8/194.8 kB\u001b[0m \u001b[31m9.3 MB/s\u001b[0m eta \u001b[36m0:00:00\u001b[0m\n",
            "\u001b[?25hInstalling collected packages: xxhash, fsspec, dill, multiprocess, datasets\n",
            "  Attempting uninstall: fsspec\n",
            "    Found existing installation: fsspec 2025.3.2\n",
            "    Uninstalling fsspec-2025.3.2:\n",
            "      Successfully uninstalled fsspec-2025.3.2\n",
            "\u001b[31mERROR: pip's dependency resolver does not currently take into account all the packages that are installed. This behaviour is the source of the following dependency conflicts.\n",
            "torch 2.6.0+cu124 requires nvidia-cublas-cu12==12.4.5.8; platform_system == \"Linux\" and platform_machine == \"x86_64\", but you have nvidia-cublas-cu12 12.5.3.2 which is incompatible.\n",
            "torch 2.6.0+cu124 requires nvidia-cuda-cupti-cu12==12.4.127; platform_system == \"Linux\" and platform_machine == \"x86_64\", but you have nvidia-cuda-cupti-cu12 12.5.82 which is incompatible.\n",
            "torch 2.6.0+cu124 requires nvidia-cuda-nvrtc-cu12==12.4.127; platform_system == \"Linux\" and platform_machine == \"x86_64\", but you have nvidia-cuda-nvrtc-cu12 12.5.82 which is incompatible.\n",
            "torch 2.6.0+cu124 requires nvidia-cuda-runtime-cu12==12.4.127; platform_system == \"Linux\" and platform_machine == \"x86_64\", but you have nvidia-cuda-runtime-cu12 12.5.82 which is incompatible.\n",
            "torch 2.6.0+cu124 requires nvidia-cudnn-cu12==9.1.0.70; platform_system == \"Linux\" and platform_machine == \"x86_64\", but you have nvidia-cudnn-cu12 9.3.0.75 which is incompatible.\n",
            "torch 2.6.0+cu124 requires nvidia-cufft-cu12==11.2.1.3; platform_system == \"Linux\" and platform_machine == \"x86_64\", but you have nvidia-cufft-cu12 11.2.3.61 which is incompatible.\n",
            "torch 2.6.0+cu124 requires nvidia-curand-cu12==10.3.5.147; platform_system == \"Linux\" and platform_machine == \"x86_64\", but you have nvidia-curand-cu12 10.3.6.82 which is incompatible.\n",
            "torch 2.6.0+cu124 requires nvidia-cusolver-cu12==11.6.1.9; platform_system == \"Linux\" and platform_machine == \"x86_64\", but you have nvidia-cusolver-cu12 11.6.3.83 which is incompatible.\n",
            "torch 2.6.0+cu124 requires nvidia-cusparse-cu12==12.3.1.170; platform_system == \"Linux\" and platform_machine == \"x86_64\", but you have nvidia-cusparse-cu12 12.5.1.3 which is incompatible.\n",
            "torch 2.6.0+cu124 requires nvidia-nvjitlink-cu12==12.4.127; platform_system == \"Linux\" and platform_machine == \"x86_64\", but you have nvidia-nvjitlink-cu12 12.5.82 which is incompatible.\n",
            "gcsfs 2025.3.2 requires fsspec==2025.3.2, but you have fsspec 2025.3.0 which is incompatible.\u001b[0m\u001b[31m\n",
            "\u001b[0mSuccessfully installed datasets-3.6.0 dill-0.3.8 fsspec-2025.3.0 multiprocess-0.70.16 xxhash-3.5.0\n"
          ]
        }
      ],
      "execution_count": 1
    },
    {
      "cell_type": "code",
      "source": [
        "import os\n",
        "import numpy as np\n",
        "import pandas as pd\n",
        "import torch\n",
        "import torch.nn as nn\n",
        "from torch.utils.data import Dataset, DataLoader\n",
        "from sklearn.model_selection import train_test_split\n",
        "from sklearn.metrics import accuracy_score, classification_report\n",
        "from transformers import BertTokenizer, BertForSequenceClassification, get_scheduler\n",
        "from torch.optim import AdamW\n",
        "from tqdm import tqdm\n",
        "import kagglehub\n",
        "import datasets\n",
        "from datasets import load_dataset\n",
        "import shutil\n",
        "from google.colab import files"
      ],
      "metadata": {
        "id": "y9O5D4UIcpm9",
        "trusted": true,
        "execution": {
          "iopub.status.busy": "2025-05-09T07:28:03.162182Z",
          "iopub.execute_input": "2025-05-09T07:28:03.162418Z",
          "iopub.status.idle": "2025-05-09T07:28:27.828039Z",
          "shell.execute_reply.started": "2025-05-09T07:28:03.162399Z",
          "shell.execute_reply": "2025-05-09T07:28:27.827463Z"
        }
      },
      "outputs": [],
      "execution_count": 18
    },
    {
      "cell_type": "code",
      "source": [
        "import transformers\n",
        "print(transformers.__version__)"
      ],
      "metadata": {
        "colab": {
          "base_uri": "https://localhost:8080/"
        },
        "id": "rqIrcMDv3dw6",
        "outputId": "433ceb02-c105-4a32-f398-4ab6ef80ae8b"
      },
      "execution_count": 19,
      "outputs": [
        {
          "output_type": "stream",
          "name": "stdout",
          "text": [
            "4.51.3\n"
          ]
        }
      ]
    },
    {
      "cell_type": "markdown",
      "source": [
        "# Loading the dataset"
      ],
      "metadata": {
        "id": "uMtd0t8D2cIx"
      }
    },
    {
      "cell_type": "code",
      "source": [
        "kagglehub.dataset_download(\"lakshmi25npathi/imdb-dataset-of-50k-movie-reviews\")\n",
        "path = os.path.join(\"/kaggle\", \"input\", \"imdb-dataset-of-50k-movie-reviews\", \"IMDB Dataset.csv\")\n",
        "print(\"Path to dataset files:\", path)"
      ],
      "metadata": {
        "colab": {
          "base_uri": "https://localhost:8080/"
        },
        "id": "jOH7HeintsXk",
        "outputId": "38893f4b-6614-428a-b460-0b51c004f261",
        "trusted": true,
        "execution": {
          "iopub.status.busy": "2025-05-09T07:28:27.828977Z",
          "iopub.execute_input": "2025-05-09T07:28:27.829486Z",
          "iopub.status.idle": "2025-05-09T07:28:27.884209Z",
          "shell.execute_reply.started": "2025-05-09T07:28:27.829463Z",
          "shell.execute_reply": "2025-05-09T07:28:27.883707Z"
        }
      },
      "outputs": [
        {
          "output_type": "stream",
          "name": "stdout",
          "text": [
            "Path to dataset files: /kaggle/input/imdb-dataset-of-50k-movie-reviews/IMDB Dataset.csv\n"
          ]
        }
      ],
      "execution_count": 5
    },
    {
      "cell_type": "code",
      "source": [
        "df = pd.read_csv(path, encoding='latin-1')"
      ],
      "metadata": {
        "id": "5RbxHCbvIHYt",
        "trusted": true,
        "execution": {
          "iopub.status.busy": "2025-05-09T07:28:27.884810Z",
          "iopub.execute_input": "2025-05-09T07:28:27.885058Z",
          "iopub.status.idle": "2025-05-09T07:28:28.976145Z",
          "shell.execute_reply.started": "2025-05-09T07:28:27.885041Z",
          "shell.execute_reply": "2025-05-09T07:28:28.975621Z"
        }
      },
      "outputs": [],
      "execution_count": 6
    },
    {
      "cell_type": "code",
      "source": [
        "len(df)"
      ],
      "metadata": {
        "colab": {
          "base_uri": "https://localhost:8080/"
        },
        "id": "T_CqCv3nIohg",
        "outputId": "56d8b67d-2a55-4c17-b8bc-9ab43b3cff19",
        "trusted": true,
        "execution": {
          "iopub.status.busy": "2025-05-09T07:28:28.979831Z",
          "iopub.execute_input": "2025-05-09T07:28:28.980036Z",
          "iopub.status.idle": "2025-05-09T07:28:28.985412Z",
          "shell.execute_reply.started": "2025-05-09T07:28:28.980021Z",
          "shell.execute_reply": "2025-05-09T07:28:28.984824Z"
        }
      },
      "outputs": [
        {
          "output_type": "execute_result",
          "data": {
            "text/plain": [
              "50000"
            ]
          },
          "metadata": {},
          "execution_count": 7
        }
      ],
      "execution_count": 7
    },
    {
      "cell_type": "code",
      "source": [
        "print(df.columns)"
      ],
      "metadata": {
        "colab": {
          "base_uri": "https://localhost:8080/"
        },
        "id": "QPBeNOGDJYa1",
        "outputId": "c05dbb34-fb68-49f6-abfc-ff4c2a77dbe8",
        "trusted": true,
        "execution": {
          "iopub.status.busy": "2025-05-09T07:28:28.986036Z",
          "iopub.execute_input": "2025-05-09T07:28:28.986241Z",
          "iopub.status.idle": "2025-05-09T07:28:28.997051Z",
          "shell.execute_reply.started": "2025-05-09T07:28:28.986225Z",
          "shell.execute_reply": "2025-05-09T07:28:28.996487Z"
        }
      },
      "outputs": [
        {
          "output_type": "stream",
          "name": "stdout",
          "text": [
            "Index(['review', 'sentiment'], dtype='object')\n"
          ]
        }
      ],
      "execution_count": 8
    },
    {
      "cell_type": "code",
      "source": [
        "print(df['sentiment'].unique())"
      ],
      "metadata": {
        "colab": {
          "base_uri": "https://localhost:8080/"
        },
        "id": "AM2FwL9JJKnm",
        "outputId": "a25b914b-f4cb-4049-9e78-57b2dbf40381",
        "trusted": true,
        "execution": {
          "iopub.status.busy": "2025-05-09T07:28:28.997802Z",
          "iopub.execute_input": "2025-05-09T07:28:28.998038Z",
          "iopub.status.idle": "2025-05-09T07:28:29.013426Z",
          "shell.execute_reply.started": "2025-05-09T07:28:28.998023Z",
          "shell.execute_reply": "2025-05-09T07:28:29.012769Z"
        }
      },
      "outputs": [
        {
          "output_type": "stream",
          "name": "stdout",
          "text": [
            "['positive' 'negative']\n"
          ]
        }
      ],
      "execution_count": 9
    },
    {
      "cell_type": "code",
      "source": [
        "df['label'] = df['sentiment'].map({'positive': 1, 'negative': 0})"
      ],
      "metadata": {
        "id": "miwA9BRdIFOx",
        "trusted": true,
        "execution": {
          "iopub.status.busy": "2025-05-09T07:28:29.014202Z",
          "iopub.execute_input": "2025-05-09T07:28:29.014520Z",
          "iopub.status.idle": "2025-05-09T07:28:29.028361Z",
          "shell.execute_reply.started": "2025-05-09T07:28:29.014493Z",
          "shell.execute_reply": "2025-05-09T07:28:29.027659Z"
        }
      },
      "outputs": [],
      "execution_count": 10
    },
    {
      "cell_type": "code",
      "source": [
        "print(df.columns)"
      ],
      "metadata": {
        "colab": {
          "base_uri": "https://localhost:8080/"
        },
        "id": "ZlByiis_JiAS",
        "outputId": "38729ccc-34e5-431f-d0af-dbe77c653916",
        "trusted": true,
        "execution": {
          "iopub.status.busy": "2025-05-09T07:28:29.029198Z",
          "iopub.execute_input": "2025-05-09T07:28:29.029356Z",
          "iopub.status.idle": "2025-05-09T07:28:29.039245Z",
          "shell.execute_reply.started": "2025-05-09T07:28:29.029343Z",
          "shell.execute_reply": "2025-05-09T07:28:29.038597Z"
        }
      },
      "outputs": [
        {
          "output_type": "stream",
          "name": "stdout",
          "text": [
            "Index(['review', 'sentiment', 'label'], dtype='object')\n"
          ]
        }
      ],
      "execution_count": 11
    },
    {
      "cell_type": "code",
      "source": [
        "train_texts, test_texts, train_labels, test_labels = train_test_split(\n",
        "    df['review'].values, df['label'].values, test_size=0.2, random_state=42)"
      ],
      "metadata": {
        "id": "M0Vj2zmiPkoW",
        "trusted": true,
        "execution": {
          "iopub.status.busy": "2025-05-09T07:28:29.039916Z",
          "iopub.execute_input": "2025-05-09T07:28:29.040152Z",
          "iopub.status.idle": "2025-05-09T07:28:29.051517Z",
          "shell.execute_reply.started": "2025-05-09T07:28:29.040138Z",
          "shell.execute_reply": "2025-05-09T07:28:29.050802Z"
        }
      },
      "outputs": [],
      "execution_count": 12
    },
    {
      "cell_type": "code",
      "source": [
        "len(train_texts)"
      ],
      "metadata": {
        "colab": {
          "base_uri": "https://localhost:8080/"
        },
        "id": "w64LiMMNecl9",
        "outputId": "d806650b-c666-46b2-9f29-9ca83ccd9c2f",
        "trusted": true,
        "execution": {
          "iopub.status.busy": "2025-05-09T07:28:29.062153Z",
          "iopub.execute_input": "2025-05-09T07:28:29.062428Z",
          "iopub.status.idle": "2025-05-09T07:28:29.073345Z",
          "shell.execute_reply.started": "2025-05-09T07:28:29.062407Z",
          "shell.execute_reply": "2025-05-09T07:28:29.072674Z"
        }
      },
      "outputs": [
        {
          "output_type": "execute_result",
          "data": {
            "text/plain": [
              "40000"
            ]
          },
          "metadata": {},
          "execution_count": 13
        }
      ],
      "execution_count": 13
    },
    {
      "cell_type": "code",
      "source": [
        "len(test_texts)"
      ],
      "metadata": {
        "colab": {
          "base_uri": "https://localhost:8080/"
        },
        "id": "eh4GqKIBemRC",
        "outputId": "2a0e748d-15db-46e6-e76f-af3897fff122",
        "trusted": true,
        "execution": {
          "iopub.status.busy": "2025-05-09T07:28:29.074101Z",
          "iopub.execute_input": "2025-05-09T07:28:29.074332Z",
          "iopub.status.idle": "2025-05-09T07:28:29.083947Z",
          "shell.execute_reply.started": "2025-05-09T07:28:29.074312Z",
          "shell.execute_reply": "2025-05-09T07:28:29.083399Z"
        }
      },
      "outputs": [
        {
          "output_type": "execute_result",
          "data": {
            "text/plain": [
              "10000"
            ]
          },
          "metadata": {},
          "execution_count": 14
        }
      ],
      "execution_count": 14
    },
    {
      "cell_type": "markdown",
      "source": [
        "# Tockenization and Bert Model"
      ],
      "metadata": {
        "id": "O--cIebV3qwm"
      }
    },
    {
      "cell_type": "code",
      "source": [
        "tokenizer = BertTokenizer.from_pretrained('bert-base-uncased')\n",
        "\n",
        "train_encodings = tokenizer(list(train_texts), truncation=True, padding=True, max_length=512)\n",
        "test_encodings = tokenizer(list(test_texts), truncation=True, padding=True, max_length=512)"
      ],
      "metadata": {
        "colab": {
          "base_uri": "https://localhost:8080/",
          "height": 113,
          "referenced_widgets": [
            "54c84d8801484149803956a0c9bede3d",
            "ea962a2fa5d34a2aa61a46eacd561888",
            "ee8f9771866c48c0a716e4b03b696dd8",
            "1dd01c2efc2a46aca1305d0006e38f89",
            "765f4185e2ec4d9fb9cec16412672170",
            "ba6b391e34d34adeb3db70f30eb35c59",
            "677d1928e459462285d839053ed6d092",
            "b612ba068251480d9c5070dd0c63ab52",
            "e17099ab96d0437ca117738d3366266e",
            "2cc88cb9d3614c4f9fda3627732b06ab",
            "fe72e0c3846844cd8ff9eb984e8bbdd2",
            "b6c82625fe9843b8a0154fbe570f1475",
            "4618494d689c4515b13b445a195cf17c",
            "5859a8f9759f4139bc29624d1d4b29cd",
            "6a066e43094946aba0c48bf011db49bd",
            "72ccff871cfc4dfb981c6d473cb93c65",
            "9d3fb0bf8e8e4154a7b7bb8ba1ff5d42",
            "57487a55ec8d408ab0a367c9083d1a07",
            "3a730732407c448b9bd83e48e8d310c5",
            "52a6cae354ae46adad3bddc8a47f9217",
            "e75f1d3248c240fcbd58ceaccf33aab8",
            "17d44d9143d245048f380602aa978e71",
            "e9872ca1da07438a9431efdb0ba205be",
            "708a6d882ede466cabbb1570473c02af",
            "8cb109f93e85446db784d1010786148a",
            "c1a011832d95446cbb4c100d5fc0a7bf",
            "936c9647bc7c43c7b4ae79ae874fd6e2",
            "eeda3056fee2494baacca84e4f4c40e3",
            "3f4c893151e048038610628a01fd84fd",
            "b6617d136d324a9595ef3a697aec2d31",
            "3621d1f5a35d4e1796a57ce910563775",
            "612d612e94bb484c9ce3b5c898e23cc9",
            "9b61ff427fee4379a1f64eadff6b118e"
          ]
        },
        "id": "DeyNTgd_cpim",
        "outputId": "1bc3da94-dba2-4aec-d64b-d0a24dddde99",
        "trusted": true,
        "execution": {
          "iopub.status.busy": "2025-05-09T07:28:29.084720Z",
          "iopub.execute_input": "2025-05-09T07:28:29.084930Z",
          "iopub.status.idle": "2025-05-09T07:29:04.784245Z",
          "shell.execute_reply.started": "2025-05-09T07:28:29.084907Z",
          "shell.execute_reply": "2025-05-09T07:29:04.783445Z"
        }
      },
      "outputs": [
        {
          "output_type": "display_data",
          "data": {
            "text/plain": [
              "tokenizer_config.json:   0%|          | 0.00/48.0 [00:00<?, ?B/s]"
            ],
            "application/vnd.jupyter.widget-view+json": {
              "version_major": 2,
              "version_minor": 0,
              "model_id": "54c84d8801484149803956a0c9bede3d"
            }
          },
          "metadata": {}
        },
        {
          "output_type": "display_data",
          "data": {
            "text/plain": [
              "vocab.txt:   0%|          | 0.00/232k [00:00<?, ?B/s]"
            ],
            "application/vnd.jupyter.widget-view+json": {
              "version_major": 2,
              "version_minor": 0,
              "model_id": "b6c82625fe9843b8a0154fbe570f1475"
            }
          },
          "metadata": {}
        },
        {
          "output_type": "display_data",
          "data": {
            "text/plain": [
              "tokenizer.json:   0%|          | 0.00/466k [00:00<?, ?B/s]"
            ],
            "application/vnd.jupyter.widget-view+json": {
              "version_major": 2,
              "version_minor": 0,
              "model_id": "e9872ca1da07438a9431efdb0ba205be"
            }
          },
          "metadata": {}
        }
      ],
      "execution_count": 15
    },
    {
      "cell_type": "code",
      "source": [
        "class IMDbDataset(Dataset):\n",
        "    def __init__(self, encodings, labels):\n",
        "        self.encodings = encodings\n",
        "        self.labels = labels\n",
        "\n",
        "    def __len__(self):\n",
        "        return len(self.labels)\n",
        "\n",
        "    def __getitem__(self, idx):\n",
        "        return {\n",
        "            'input_ids': torch.tensor(self.encodings['input_ids'][idx]),\n",
        "            'attention_mask': torch.tensor(self.encodings['attention_mask'][idx]),\n",
        "            'labels': torch.tensor(self.labels[idx])\n",
        "        }\n",
        "\n",
        "train_dataset = IMDbDataset(train_encodings, train_labels)\n",
        "test_dataset = IMDbDataset(test_encodings, test_labels)"
      ],
      "metadata": {
        "id": "O4wTNFaCcpgo",
        "trusted": true,
        "execution": {
          "iopub.status.busy": "2025-05-09T07:29:04.785522Z",
          "iopub.execute_input": "2025-05-09T07:29:04.785874Z",
          "iopub.status.idle": "2025-05-09T07:29:04.790818Z",
          "shell.execute_reply.started": "2025-05-09T07:29:04.785856Z",
          "shell.execute_reply": "2025-05-09T07:29:04.790085Z"
        }
      },
      "outputs": [],
      "execution_count": 16
    },
    {
      "cell_type": "code",
      "source": [
        "model = BertForSequenceClassification.from_pretrained('bert-base-uncased', num_labels=2)\n",
        "device = torch.device('cuda') if torch.cuda.is_available() else torch.device('cpu')\n",
        "model.to(device)"
      ],
      "metadata": {
        "id": "nMWPEYHEcpeN",
        "trusted": true,
        "execution": {
          "iopub.status.busy": "2025-05-09T07:29:04.791597Z",
          "iopub.execute_input": "2025-05-09T07:29:04.791838Z",
          "iopub.status.idle": "2025-05-09T07:29:04.855653Z",
          "shell.execute_reply.started": "2025-05-09T07:29:04.791816Z",
          "shell.execute_reply": "2025-05-09T07:29:04.855056Z"
        }
      },
      "outputs": [],
      "execution_count": null
    },
    {
      "cell_type": "code",
      "source": [
        "model = BertForSequenceClassification.from_pretrained('bert-base-uncased', num_labels=2)\n",
        "\n",
        "if torch.cuda.device_count() > 1:\n",
        "    print(f\"Using {torch.cuda.device_count()} GPUs.\")\n",
        "    model = torch.nn.DataParallel(model)\n",
        "\n",
        "device = torch.device('cuda' if torch.cuda.is_available() else 'cpu')\n",
        "model.to(device)"
      ],
      "metadata": {
        "trusted": true,
        "execution": {
          "iopub.status.busy": "2025-05-09T07:29:04.856415Z",
          "iopub.execute_input": "2025-05-09T07:29:04.856727Z",
          "iopub.status.idle": "2025-05-09T07:29:07.306582Z",
          "shell.execute_reply.started": "2025-05-09T07:29:04.856705Z",
          "shell.execute_reply": "2025-05-09T07:29:07.305972Z"
        },
        "colab": {
          "base_uri": "https://localhost:8080/",
          "height": 1000,
          "referenced_widgets": [
            "8f3380701582493ab3d5c48fe7f768be",
            "fffb53eacaab4c13b49165064f13c5e0",
            "02b1bbb525df47d7a0ae05b00a62c7ec",
            "6c7271897bc948abb05c7d039ff0c27a",
            "226780dccacd4ab2b90999ac8b857edd",
            "e62004bb61954adebee5c452903e00b1",
            "ed417e348dc44fe799ca16ee805a6a5f",
            "fe30bc7d99964ef28970f9fec2a36738",
            "00e98325590242e58315a6a8b02a442e",
            "9a29fd1e675a4d46972ac10968248477",
            "bfe3e527903d409ea811a26f3211678a",
            "34596bb8805e425ab1f8357557680113",
            "f2a4d08c69e04f92a8a13a4b1beca81e",
            "d6fcd649fe0543dd9d88e0182876b37c",
            "bd27f73bca094ba988f572300973a929",
            "6dfeaad105e9415ba9205123ca0ed94c",
            "22bfc76ebbe84c40baa1ce6b24930957",
            "bb3c71b4e0fb4d0ca7c17f40d9cf38d2",
            "5c8ee87c04a84c8295e35ea975c8119d",
            "06433f25cc42468893c02de71a6328d2",
            "a5d4831203d847de8ed3e92b2a161fa5",
            "3437cf86d7c14789b809275e8ef08d37"
          ]
        },
        "id": "vuFnIvC913nK",
        "outputId": "bf0a394e-2fef-46de-b3f6-b37d08692fab"
      },
      "outputs": [
        {
          "output_type": "stream",
          "name": "stderr",
          "text": [
            "/usr/local/lib/python3.11/dist-packages/huggingface_hub/utils/_auth.py:94: UserWarning: \n",
            "The secret `HF_TOKEN` does not exist in your Colab secrets.\n",
            "To authenticate with the Hugging Face Hub, create a token in your settings tab (https://huggingface.co/settings/tokens), set it as secret in your Google Colab and restart your session.\n",
            "You will be able to reuse this secret in all of your notebooks.\n",
            "Please note that authentication is recommended but still optional to access public models or datasets.\n",
            "  warnings.warn(\n"
          ]
        },
        {
          "output_type": "display_data",
          "data": {
            "text/plain": [
              "config.json:   0%|          | 0.00/570 [00:00<?, ?B/s]"
            ],
            "application/vnd.jupyter.widget-view+json": {
              "version_major": 2,
              "version_minor": 0,
              "model_id": "8f3380701582493ab3d5c48fe7f768be"
            }
          },
          "metadata": {}
        },
        {
          "output_type": "stream",
          "name": "stderr",
          "text": [
            "Xet Storage is enabled for this repo, but the 'hf_xet' package is not installed. Falling back to regular HTTP download. For better performance, install the package with: `pip install huggingface_hub[hf_xet]` or `pip install hf_xet`\n",
            "WARNING:huggingface_hub.file_download:Xet Storage is enabled for this repo, but the 'hf_xet' package is not installed. Falling back to regular HTTP download. For better performance, install the package with: `pip install huggingface_hub[hf_xet]` or `pip install hf_xet`\n"
          ]
        },
        {
          "output_type": "display_data",
          "data": {
            "text/plain": [
              "model.safetensors:   0%|          | 0.00/440M [00:00<?, ?B/s]"
            ],
            "application/vnd.jupyter.widget-view+json": {
              "version_major": 2,
              "version_minor": 0,
              "model_id": "34596bb8805e425ab1f8357557680113"
            }
          },
          "metadata": {}
        },
        {
          "output_type": "stream",
          "name": "stderr",
          "text": [
            "Some weights of BertForSequenceClassification were not initialized from the model checkpoint at bert-base-uncased and are newly initialized: ['classifier.bias', 'classifier.weight']\n",
            "You should probably TRAIN this model on a down-stream task to be able to use it for predictions and inference.\n"
          ]
        },
        {
          "output_type": "execute_result",
          "data": {
            "text/plain": [
              "BertForSequenceClassification(\n",
              "  (bert): BertModel(\n",
              "    (embeddings): BertEmbeddings(\n",
              "      (word_embeddings): Embedding(30522, 768, padding_idx=0)\n",
              "      (position_embeddings): Embedding(512, 768)\n",
              "      (token_type_embeddings): Embedding(2, 768)\n",
              "      (LayerNorm): LayerNorm((768,), eps=1e-12, elementwise_affine=True)\n",
              "      (dropout): Dropout(p=0.1, inplace=False)\n",
              "    )\n",
              "    (encoder): BertEncoder(\n",
              "      (layer): ModuleList(\n",
              "        (0-11): 12 x BertLayer(\n",
              "          (attention): BertAttention(\n",
              "            (self): BertSdpaSelfAttention(\n",
              "              (query): Linear(in_features=768, out_features=768, bias=True)\n",
              "              (key): Linear(in_features=768, out_features=768, bias=True)\n",
              "              (value): Linear(in_features=768, out_features=768, bias=True)\n",
              "              (dropout): Dropout(p=0.1, inplace=False)\n",
              "            )\n",
              "            (output): BertSelfOutput(\n",
              "              (dense): Linear(in_features=768, out_features=768, bias=True)\n",
              "              (LayerNorm): LayerNorm((768,), eps=1e-12, elementwise_affine=True)\n",
              "              (dropout): Dropout(p=0.1, inplace=False)\n",
              "            )\n",
              "          )\n",
              "          (intermediate): BertIntermediate(\n",
              "            (dense): Linear(in_features=768, out_features=3072, bias=True)\n",
              "            (intermediate_act_fn): GELUActivation()\n",
              "          )\n",
              "          (output): BertOutput(\n",
              "            (dense): Linear(in_features=3072, out_features=768, bias=True)\n",
              "            (LayerNorm): LayerNorm((768,), eps=1e-12, elementwise_affine=True)\n",
              "            (dropout): Dropout(p=0.1, inplace=False)\n",
              "          )\n",
              "        )\n",
              "      )\n",
              "    )\n",
              "    (pooler): BertPooler(\n",
              "      (dense): Linear(in_features=768, out_features=768, bias=True)\n",
              "      (activation): Tanh()\n",
              "    )\n",
              "  )\n",
              "  (dropout): Dropout(p=0.1, inplace=False)\n",
              "  (classifier): Linear(in_features=768, out_features=2, bias=True)\n",
              ")"
            ]
          },
          "metadata": {},
          "execution_count": 3
        }
      ],
      "execution_count": 3
    },
    {
      "cell_type": "markdown",
      "source": [
        "# Training the Model on the training data"
      ],
      "metadata": {
        "id": "HD9hb7T_3gML"
      }
    },
    {
      "cell_type": "code",
      "source": [
        "train_loader = DataLoader(train_dataset, batch_size=8, shuffle=True)\n",
        "test_loader = DataLoader(test_dataset, batch_size=8)\n",
        "\n",
        "optimizer = AdamW(model.parameters(), lr=5e-5)\n",
        "num_epochs = 40\n",
        "num_training_steps = num_epochs * len(train_loader)\n",
        "lr_scheduler = get_scheduler(\"linear\", optimizer=optimizer, num_warmup_steps=0, num_training_steps=num_training_steps)"
      ],
      "metadata": {
        "id": "BR4m9Ppucpbt",
        "trusted": true,
        "execution": {
          "iopub.status.busy": "2025-05-09T07:29:20.196082Z",
          "iopub.execute_input": "2025-05-09T07:29:20.196360Z",
          "iopub.status.idle": "2025-05-09T07:29:20.201839Z",
          "shell.execute_reply.started": "2025-05-09T07:29:20.196340Z",
          "shell.execute_reply": "2025-05-09T07:29:20.200978Z"
        }
      },
      "outputs": [],
      "execution_count": null
    },
    {
      "cell_type": "code",
      "source": [
        "model.train()\n",
        "for epoch in range(5):\n",
        "    print(f\"Epoch {epoch+1}\")\n",
        "    loop = tqdm(train_loader, leave=True)\n",
        "    for batch in loop:\n",
        "        batch = {k: v.to(device) for k, v in batch.items()}\n",
        "        outputs = model(**batch)\n",
        "        loss = outputs.loss\n",
        "        loss = loss.mean()\n",
        "        loss.backward()\n",
        "        optimizer.step()\n",
        "        lr_scheduler.step()\n",
        "        optimizer.zero_grad()\n",
        "        loop.set_description(f\"Epoch {epoch+1}\")\n",
        "        loop.set_postfix(loss=loss.item())"
      ],
      "metadata": {
        "trusted": true,
        "execution": {
          "iopub.status.busy": "2025-05-09T07:29:37.149292Z",
          "iopub.execute_input": "2025-05-09T07:29:37.150041Z",
          "iopub.status.idle": "2025-05-09T08:13:22.343283Z",
          "shell.execute_reply.started": "2025-05-09T07:29:37.150009Z",
          "shell.execute_reply": "2025-05-09T08:13:22.342688Z"
        },
        "id": "73VkkQ8I13nM",
        "outputId": "fa236ecf-d5ea-407f-a038-667c397ba191"
      },
      "outputs": [
        {
          "name": "stdout",
          "text": "Epoch 1\n",
          "output_type": "stream"
        },
        {
          "name": "stderr",
          "text": "Epoch 1: 100%|██████████| 1000/1000 [08:42<00:00,  1.91it/s, loss=0.189]\n",
          "output_type": "stream"
        },
        {
          "name": "stdout",
          "text": "Epoch 2\n",
          "output_type": "stream"
        },
        {
          "name": "stderr",
          "text": "Epoch 2: 100%|██████████| 1000/1000 [08:46<00:00,  1.90it/s, loss=0.0191]\n",
          "output_type": "stream"
        },
        {
          "name": "stdout",
          "text": "Epoch 3\n",
          "output_type": "stream"
        },
        {
          "name": "stderr",
          "text": "Epoch 3: 100%|██████████| 1000/1000 [08:45<00:00,  1.90it/s, loss=0.0184] \n",
          "output_type": "stream"
        },
        {
          "name": "stdout",
          "text": "Epoch 4\n",
          "output_type": "stream"
        },
        {
          "name": "stderr",
          "text": "Epoch 4: 100%|██████████| 1000/1000 [08:45<00:00,  1.90it/s, loss=0.00129]\n",
          "output_type": "stream"
        },
        {
          "name": "stdout",
          "text": "Epoch 5\n",
          "output_type": "stream"
        },
        {
          "name": "stderr",
          "text": "Epoch 5: 100%|██████████| 1000/1000 [08:45<00:00,  1.90it/s, loss=0.000758]\n",
          "output_type": "stream"
        }
      ],
      "execution_count": null
    },
    {
      "cell_type": "code",
      "source": [
        "model.train()\n",
        "for epoch in range(num_epochs):\n",
        "    print(f\"Epoch {epoch+1}\")\n",
        "    loop = tqdm(train_loader, leave=True)\n",
        "    for batch in loop:\n",
        "        batch = {k: v.to(device) for k, v in batch.items()}\n",
        "        outputs = model(**batch)\n",
        "        loss = outputs.loss\n",
        "        loss = loss.mean()\n",
        "        loss.backward()\n",
        "        optimizer.step()\n",
        "        lr_scheduler.step()\n",
        "        optimizer.zero_grad()\n",
        "        loop.set_description(f\"Epoch {epoch+1}\")\n",
        "        loop.set_postfix(loss=loss.item())"
      ],
      "metadata": {
        "trusted": true,
        "execution": {
          "iopub.status.busy": "2025-05-08T21:23:16.854298Z",
          "iopub.execute_input": "2025-05-08T21:23:16.854602Z",
          "execution_failed": "2025-05-09T07:13:59.023Z"
        },
        "id": "B--B4TFK13nM",
        "outputId": "cffcaa9e-47e8-4e25-bc2c-70f2867f1e51"
      },
      "outputs": [
        {
          "name": "stdout",
          "text": "Epoch 1\n",
          "output_type": "stream"
        },
        {
          "name": "stderr",
          "text": "Epoch 1: 100%|██████████| 1000/1000 [08:37<00:00,  1.93it/s, loss=0.153]\n",
          "output_type": "stream"
        },
        {
          "name": "stdout",
          "text": "Epoch 2\n",
          "output_type": "stream"
        },
        {
          "name": "stderr",
          "text": "Epoch 2: 100%|██████████| 1000/1000 [08:40<00:00,  1.92it/s, loss=0.236] \n",
          "output_type": "stream"
        },
        {
          "name": "stdout",
          "text": "Epoch 3\n",
          "output_type": "stream"
        },
        {
          "name": "stderr",
          "text": "Epoch 3: 100%|██████████| 1000/1000 [08:40<00:00,  1.92it/s, loss=0.015]  \n",
          "output_type": "stream"
        },
        {
          "name": "stdout",
          "text": "Epoch 4\n",
          "output_type": "stream"
        },
        {
          "name": "stderr",
          "text": "Epoch 4: 100%|██████████| 1000/1000 [08:40<00:00,  1.92it/s, loss=0.0105] \n",
          "output_type": "stream"
        },
        {
          "name": "stdout",
          "text": "Epoch 5\n",
          "output_type": "stream"
        },
        {
          "name": "stderr",
          "text": "Epoch 5: 100%|██████████| 1000/1000 [08:39<00:00,  1.92it/s, loss=0.0218] \n",
          "output_type": "stream"
        },
        {
          "name": "stdout",
          "text": "Epoch 6\n",
          "output_type": "stream"
        },
        {
          "name": "stderr",
          "text": "Epoch 6: 100%|██████████| 1000/1000 [08:40<00:00,  1.92it/s, loss=0.00204]\n",
          "output_type": "stream"
        },
        {
          "name": "stdout",
          "text": "Epoch 7\n",
          "output_type": "stream"
        },
        {
          "name": "stderr",
          "text": "Epoch 7: 100%|██████████| 1000/1000 [08:39<00:00,  1.92it/s, loss=0.665]  \n",
          "output_type": "stream"
        },
        {
          "name": "stdout",
          "text": "Epoch 8\n",
          "output_type": "stream"
        },
        {
          "name": "stderr",
          "text": "Epoch 8: 100%|██████████| 1000/1000 [08:39<00:00,  1.92it/s, loss=0.0012] \n",
          "output_type": "stream"
        },
        {
          "name": "stdout",
          "text": "Epoch 9\n",
          "output_type": "stream"
        },
        {
          "name": "stderr",
          "text": "Epoch 9: 100%|██████████| 1000/1000 [08:40<00:00,  1.92it/s, loss=0.00336]\n",
          "output_type": "stream"
        },
        {
          "name": "stdout",
          "text": "Epoch 10\n",
          "output_type": "stream"
        },
        {
          "name": "stderr",
          "text": "Epoch 10: 100%|██████████| 1000/1000 [08:39<00:00,  1.92it/s, loss=0.000665]\n",
          "output_type": "stream"
        },
        {
          "name": "stdout",
          "text": "Epoch 11\n",
          "output_type": "stream"
        },
        {
          "name": "stderr",
          "text": "Epoch 11: 100%|██████████| 1000/1000 [08:39<00:00,  1.92it/s, loss=0.0012] \n",
          "output_type": "stream"
        },
        {
          "name": "stdout",
          "text": "Epoch 12\n",
          "output_type": "stream"
        },
        {
          "name": "stderr",
          "text": "Epoch 12: 100%|██████████| 1000/1000 [08:39<00:00,  1.92it/s, loss=0.000108]\n",
          "output_type": "stream"
        },
        {
          "name": "stdout",
          "text": "Epoch 13\n",
          "output_type": "stream"
        },
        {
          "name": "stderr",
          "text": "Epoch 13: 100%|██████████| 1000/1000 [08:39<00:00,  1.92it/s, loss=0.005]  \n",
          "output_type": "stream"
        },
        {
          "name": "stdout",
          "text": "Epoch 14\n",
          "output_type": "stream"
        },
        {
          "name": "stderr",
          "text": "Epoch 14: 100%|██████████| 1000/1000 [08:40<00:00,  1.92it/s, loss=0.0046] \n",
          "output_type": "stream"
        },
        {
          "name": "stdout",
          "text": "Epoch 15\n",
          "output_type": "stream"
        },
        {
          "name": "stderr",
          "text": "Epoch 15: 100%|██████████| 1000/1000 [08:39<00:00,  1.92it/s, loss=0.000189]\n",
          "output_type": "stream"
        },
        {
          "name": "stdout",
          "text": "Epoch 16\n",
          "output_type": "stream"
        },
        {
          "name": "stderr",
          "text": "Epoch 16: 100%|██████████| 1000/1000 [08:40<00:00,  1.92it/s, loss=0.000151]\n",
          "output_type": "stream"
        },
        {
          "name": "stdout",
          "text": "Epoch 17\n",
          "output_type": "stream"
        },
        {
          "name": "stderr",
          "text": "Epoch 17: 100%|██████████| 1000/1000 [08:40<00:00,  1.92it/s, loss=0.00351]\n",
          "output_type": "stream"
        },
        {
          "name": "stdout",
          "text": "Epoch 18\n",
          "output_type": "stream"
        },
        {
          "name": "stderr",
          "text": "Epoch 18: 100%|██████████| 1000/1000 [08:40<00:00,  1.92it/s, loss=0.00114]\n",
          "output_type": "stream"
        },
        {
          "name": "stdout",
          "text": "Epoch 19\n",
          "output_type": "stream"
        },
        {
          "name": "stderr",
          "text": "Epoch 19: 100%|██████████| 1000/1000 [08:39<00:00,  1.92it/s, loss=0.000108]\n",
          "output_type": "stream"
        },
        {
          "name": "stdout",
          "text": "Epoch 20\n",
          "output_type": "stream"
        },
        {
          "name": "stderr",
          "text": "Epoch 20: 100%|██████████| 1000/1000 [08:39<00:00,  1.92it/s, loss=0.000259]\n",
          "output_type": "stream"
        },
        {
          "name": "stdout",
          "text": "Epoch 21\n",
          "output_type": "stream"
        },
        {
          "name": "stderr",
          "text": "Epoch 21: 100%|██████████| 1000/1000 [08:39<00:00,  1.92it/s, loss=0.00107]\n",
          "output_type": "stream"
        },
        {
          "name": "stdout",
          "text": "Epoch 22\n",
          "output_type": "stream"
        },
        {
          "name": "stderr",
          "text": "Epoch 22: 100%|██████████| 1000/1000 [08:39<00:00,  1.92it/s, loss=3.81e-5]\n",
          "output_type": "stream"
        },
        {
          "name": "stdout",
          "text": "Epoch 23\n",
          "output_type": "stream"
        },
        {
          "name": "stderr",
          "text": "Epoch 23: 100%|██████████| 1000/1000 [08:39<00:00,  1.92it/s, loss=0.000262]\n",
          "output_type": "stream"
        },
        {
          "name": "stdout",
          "text": "Epoch 24\n",
          "output_type": "stream"
        },
        {
          "name": "stderr",
          "text": "Epoch 24: 100%|██████████| 1000/1000 [08:39<00:00,  1.93it/s, loss=0.000886]\n",
          "output_type": "stream"
        },
        {
          "name": "stdout",
          "text": "Epoch 25\n",
          "output_type": "stream"
        },
        {
          "name": "stderr",
          "text": "Epoch 25: 100%|██████████| 1000/1000 [08:39<00:00,  1.92it/s, loss=5.55e-5]\n",
          "output_type": "stream"
        },
        {
          "name": "stdout",
          "text": "Epoch 26\n",
          "output_type": "stream"
        },
        {
          "name": "stderr",
          "text": "Epoch 26: 100%|██████████| 1000/1000 [08:39<00:00,  1.92it/s, loss=1.44e-5]\n",
          "output_type": "stream"
        },
        {
          "name": "stdout",
          "text": "Epoch 27\n",
          "output_type": "stream"
        },
        {
          "name": "stderr",
          "text": "Epoch 27: 100%|██████████| 1000/1000 [08:39<00:00,  1.93it/s, loss=6.44e-6]\n",
          "output_type": "stream"
        },
        {
          "name": "stdout",
          "text": "Epoch 28\n",
          "output_type": "stream"
        },
        {
          "name": "stderr",
          "text": "Epoch 28: 100%|██████████| 1000/1000 [08:39<00:00,  1.92it/s, loss=3.7e-6] \n",
          "output_type": "stream"
        },
        {
          "name": "stdout",
          "text": "Epoch 29\n",
          "output_type": "stream"
        },
        {
          "name": "stderr",
          "text": "Epoch 29: 100%|██████████| 1000/1000 [08:39<00:00,  1.92it/s, loss=3.49e-6]\n",
          "output_type": "stream"
        },
        {
          "name": "stdout",
          "text": "Epoch 30\n",
          "output_type": "stream"
        },
        {
          "name": "stderr",
          "text": "Epoch 30: 100%|██████████| 1000/1000 [08:39<00:00,  1.93it/s, loss=2.32e-6]\n",
          "output_type": "stream"
        },
        {
          "name": "stdout",
          "text": "Epoch 31\n",
          "output_type": "stream"
        },
        {
          "name": "stderr",
          "text": "Epoch 31: 100%|██████████| 1000/1000 [08:39<00:00,  1.93it/s, loss=1.74e-6]\n",
          "output_type": "stream"
        },
        {
          "name": "stdout",
          "text": "Epoch 32\n",
          "output_type": "stream"
        },
        {
          "name": "stderr",
          "text": "Epoch 32: 100%|██████████| 1000/1000 [08:38<00:00,  1.93it/s, loss=1.25e-6]\n",
          "output_type": "stream"
        },
        {
          "name": "stdout",
          "text": "Epoch 33\n",
          "output_type": "stream"
        },
        {
          "name": "stderr",
          "text": "Epoch 33: 100%|██████████| 1000/1000 [08:39<00:00,  1.93it/s, loss=1.01e-6]\n",
          "output_type": "stream"
        },
        {
          "name": "stdout",
          "text": "Epoch 34\n",
          "output_type": "stream"
        },
        {
          "name": "stderr",
          "text": "Epoch 34: 100%|██████████| 1000/1000 [08:38<00:00,  1.93it/s, loss=5.96e-7]\n",
          "output_type": "stream"
        },
        {
          "name": "stdout",
          "text": "Epoch 35\n",
          "output_type": "stream"
        },
        {
          "name": "stderr",
          "text": "Epoch 35: 100%|██████████| 1000/1000 [08:39<00:00,  1.93it/s, loss=4.77e-7]\n",
          "output_type": "stream"
        },
        {
          "name": "stdout",
          "text": "Epoch 36\n",
          "output_type": "stream"
        },
        {
          "name": "stderr",
          "text": "Epoch 36: 100%|██████████| 1000/1000 [08:39<00:00,  1.92it/s, loss=3.87e-7]\n",
          "output_type": "stream"
        },
        {
          "name": "stdout",
          "text": "Epoch 37\n",
          "output_type": "stream"
        },
        {
          "name": "stderr",
          "text": "Epoch 37: 100%|██████████| 1000/1000 [08:39<00:00,  1.93it/s, loss=2.68e-7]\n",
          "output_type": "stream"
        },
        {
          "name": "stdout",
          "text": "Epoch 38\n",
          "output_type": "stream"
        },
        {
          "name": "stderr",
          "text": "Epoch 38: 100%|██████████| 1000/1000 [08:38<00:00,  1.93it/s, loss=2.38e-7]\n",
          "output_type": "stream"
        },
        {
          "name": "stdout",
          "text": "Epoch 39\n",
          "output_type": "stream"
        },
        {
          "name": "stderr",
          "text": "Epoch 39: 100%|██████████| 1000/1000 [08:39<00:00,  1.93it/s, loss=1.34e-7]\n",
          "output_type": "stream"
        },
        {
          "name": "stdout",
          "text": "Epoch 40\n",
          "output_type": "stream"
        },
        {
          "name": "stderr",
          "text": "Epoch 40:  43%|████▎     | 433/1000 [03:44<04:54,  1.92it/s, loss=1.19e-7]",
          "output_type": "stream"
        }
      ],
      "execution_count": null
    },
    {
      "cell_type": "markdown",
      "source": [
        "# Evaluating the Model on the testing data"
      ],
      "metadata": {
        "id": "KPiQoNjc3UCF"
      }
    },
    {
      "cell_type": "code",
      "source": [
        "model.eval()\n",
        "preds, true_labels = [], []\n",
        "with torch.no_grad():\n",
        "    for batch in test_loader:\n",
        "        batch = {k: v.to(device) for k, v in batch.items()}\n",
        "        outputs = model(**batch)\n",
        "        logits = outputs.logits\n",
        "        predictions = torch.argmax(logits, dim=-1)\n",
        "        preds.extend(predictions.cpu().numpy())\n",
        "        true_labels.extend(batch['labels'].cpu().numpy())\n",
        "\n",
        "print(classification_report(true_labels, preds))"
      ],
      "metadata": {
        "colab": {
          "base_uri": "https://localhost:8080/"
        },
        "id": "daAKuKuCS1-8",
        "outputId": "b4e29011-b55d-4e5a-a907-66479f48ff24",
        "trusted": true,
        "execution": {
          "iopub.status.busy": "2025-05-09T08:31:39.307257Z",
          "iopub.execute_input": "2025-05-09T08:31:39.308034Z",
          "iopub.status.idle": "2025-05-09T08:32:23.420604Z",
          "shell.execute_reply.started": "2025-05-09T08:31:39.308004Z",
          "shell.execute_reply": "2025-05-09T08:32:23.419673Z"
        }
      },
      "outputs": [
        {
          "name": "stdout",
          "text": "              precision    recall  f1-score   support\n\n           0       0.93      0.92      0.92       999\n           1       0.92      0.93      0.93      1001\n\n    accuracy                           0.93      2000\n   macro avg       0.93      0.92      0.92      2000\nweighted avg       0.93      0.93      0.92      2000\n\n",
          "output_type": "stream"
        }
      ],
      "execution_count": null
    },
    {
      "cell_type": "markdown",
      "source": [
        "# Saving the Model Files to use locally"
      ],
      "metadata": {
        "id": "P0C-GcVR3Pp_"
      }
    },
    {
      "cell_type": "code",
      "source": [
        "model.save_pretrained(\"./bert_model\")\n",
        "tokenizer.save_pretrained(\"./bert_model\")\n",
        "print(\"Model saved to 'bert_model'\")"
      ],
      "metadata": {
        "id": "nAhT3OWgcxf7",
        "trusted": true,
        "execution": {
          "execution_failed": "2025-05-09T07:13:59.025Z"
        }
      },
      "outputs": [],
      "execution_count": null
    },
    {
      "cell_type": "code",
      "source": [
        "shutil.make_archive('bert_model', 'zip', 'bert_model')\n",
        "files.download('bert_model.zip')"
      ],
      "metadata": {
        "id": "WIvt_bA4VN2a",
        "trusted": true,
        "execution": {
          "execution_failed": "2025-05-09T07:13:59.026Z"
        }
      },
      "outputs": [],
      "execution_count": null
    },
    {
      "cell_type": "code",
      "source": [
        "model.module.save_pretrained(\"/kaggle/working/bert_model\")\n",
        "tokenizer.save_pretrained(\"/kaggle/working/bert_model\")\n",
        "print(\"Model saved to '/kaggle/working/bert_model'\")\n",
        "\n",
        "shutil.make_archive(\"/kaggle/working/bert_model\", 'zip', \"/kaggle/working/bert_model\")\n",
        "print(\"Zipped model saved to '/kaggle/working/bert_model.zip'\")"
      ],
      "metadata": {
        "id": "FQwbfKB7fiDJ",
        "trusted": true,
        "execution": {
          "iopub.status.busy": "2025-05-09T08:34:00.025881Z",
          "iopub.execute_input": "2025-05-09T08:34:00.026493Z",
          "iopub.status.idle": "2025-05-09T08:34:22.633925Z",
          "shell.execute_reply.started": "2025-05-09T08:34:00.026464Z",
          "shell.execute_reply": "2025-05-09T08:34:22.633131Z"
        },
        "outputId": "1389109d-1885-48db-84e2-fd869c08a3df"
      },
      "outputs": [
        {
          "name": "stdout",
          "text": "Model saved to '/kaggle/working/bert_model'\nZipped model saved to '/kaggle/working/bert_model.zip'\n",
          "output_type": "stream"
        }
      ],
      "execution_count": null
    }
  ]
}